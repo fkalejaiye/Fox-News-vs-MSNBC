{
 "cells": [
  {
   "cell_type": "code",
   "execution_count": 2,
   "metadata": {},
   "outputs": [],
   "source": [
    "import numpy as np\n",
    "from pymongo import MongoClient\n",
    "import pandas as pd\n",
    "import requests\n",
    "from bs4 import BeautifulSoup\n",
    "import time\n",
    "\n",
    "\n",
    "pages = np.arange(1,401)\n",
    "\n",
    "client = MongoClient()\n",
    "breitbart_db=client['breitbart2']\n",
    "urls = breitbart_db['urls']\n",
    "articles = breitbart_db['articles']\n",
    "\n",
    "def get_urls(x):\n",
    "    links=[]\n",
    "    count=0\n",
    "    first_half = \"https://www.breitbart.com\"\n",
    "    for num in x:\n",
    "        pg = requests.get(f'https://www.breitbart.com/politics/page/{num}/')\n",
    "        if pg.status_code==200:\n",
    "            soup = BeautifulSoup(pg.text,\"lxml\")\n",
    "            data = soup.findAll('div', {'class':\"tC\"})\n",
    "        else:\n",
    "            continue\n",
    "            \n",
    "        for i in data:\n",
    "            link=first_half+(i.find('a').get(\"href\"))\n",
    "            if link not in links:\n",
    "                links.append(link)          \n",
    "        print(f'Scraped {len(links)} urls.')\n",
    "        time.sleep(2)\n",
    "    for link in links:\n",
    "        urls.insert_one({'link': link})\n",
    "    print(\"Done!!\")\n",
    "\n",
    "\n",
    "def get_articles(urls_of_articles):\n",
    "    count=0\n",
    "    for url in urls_of_articles:\n",
    "        pg = requests.get(url)\n",
    "        if pg.status_code==200:\n",
    "            soup = BeautifulSoup(pg.text,\"lxml\")\n",
    "            title = soup.find('h1').text\n",
    "            author = soup.find('div', {\"class\": 'header_byline'}).find('a').text\n",
    "            date = soup.find('div', {\"class\": 'header_byline'}).find('time').text\n",
    "            shares = soup.find('span', {\"class\": 'acz5'}).text\n",
    "            \n",
    "            data = soup.findAll('div', {'class':\"entry-content\"})\n",
    "            content=[]\n",
    "            for i in data:\n",
    "                for j in i.find_all('p'):\n",
    "                    if str(j).startswith(\"<p><em>\")==False:\n",
    "                        t = j.get_text()\n",
    "                        content.append(t)\n",
    "            content = \" \".join(content)\n",
    "            key = {\"title\":title}\n",
    "            value = {'title':title, 'author':author, 'date': date, 'content': content}\n",
    "            articles.update(key,value,upsert=True)\n",
    "            count+=1\n",
    "            print(f'Scraped {count} articles. ({title})')\n",
    "            time.sleep(2)\n",
    "        else:\n",
    "            print('Failed to get page!')\n",
    "            continue\n",
    "\n"
   ]
  },
  {
   "cell_type": "code",
   "execution_count": null,
   "metadata": {},
   "outputs": [],
   "source": [
    "websites = [urls.find()[i]['link'] for i in range(5000,7500)]\n",
    "get_articles(websites)\n",
    "print('Finished Scraping!')"
   ]
  },
  {
   "cell_type": "code",
   "execution_count": 3,
   "metadata": {},
   "outputs": [],
   "source": [
    "test = 'https://www.breitbart.com/2020-election/2020/05/13/supreme-court-considers-faithless-elector-case/'"
   ]
  },
  {
   "cell_type": "code",
   "execution_count": 4,
   "metadata": {},
   "outputs": [],
   "source": [
    "pg = requests.get(test)"
   ]
  },
  {
   "cell_type": "code",
   "execution_count": 5,
   "metadata": {},
   "outputs": [],
   "source": [
    "soup = BeautifulSoup(pg.text,\"lxml\")"
   ]
  },
  {
   "cell_type": "code",
   "execution_count": 6,
   "metadata": {},
   "outputs": [],
   "source": [
    "data = soup.findAll('div', {'class':\"entry-content\"})"
   ]
  },
  {
   "cell_type": "code",
   "execution_count": 12,
   "metadata": {},
   "outputs": [],
   "source": [
    "content=[]\n",
    "for i in data:\n",
    "    for j in i.find_all('p'):\n",
    "        if str(j).startswith(\"<p><em>\")==False:\n",
    "            t = j.get_text()\n",
    "            content.append(t)\n",
    "content = \" \".join(content)"
   ]
  },
  {
   "cell_type": "code",
   "execution_count": 13,
   "metadata": {},
   "outputs": [
    {
     "data": {
      "text/plain": [
       "'The U.S. Supreme Court heard oral arguments Wednesday in the case of Chiafalo v. Washington, a case involving three presidential electors in the State of Washington who were fined $1,000 after casting their Electoral College votes for Colin Powell rather than Hillary Clinton. The electors challenged their fine and were represented by Harvard Law School professor Lawrence Lessig — who ran for president himself in 2016, and tried to recruit electors to defect rather than voting for Donald Trump after the 2016 vote. The case, as noted by SCOTUSblog, also included an appeal from an elector in Colorado who tried to vote for John Kasich rather than Clinton. The arguments were heard by telephone, thanks to the ongoing coronavirus pandemic, and were also broadcast on C-SPAN, with running commentary from legal pundits at SCOTUSblog. Washington State, represented by Solicitor General Noah Purcell, argued that the Constitution permitted states to regulate their electors, including by requiring them to vote for the presidential candidate chosen by a majority of voters in the state. Lessig agreed that the states can ask electors to pledge to vote for a certain candidate, but cannot fine them for doing so, arguing that presidential elections are a federal function. The arguments on both sides took an originalist form, as the two sides argued about the original intent of the Framers in setting up the Electoral College. Purcell warned that Lessig’s argument could mean that the entire presidential election process, as we currently understand it, would merely be “advisory.” Lessig warned that Washington’s law could open the door to “partisan opportunisms” in which states interfered in presidential elections. SCOTUSblog noted that the justices seemed confused as to why Washington State had not couched a defense of its law by citing the Tenth Amendment.'"
      ]
     },
     "execution_count": 13,
     "metadata": {},
     "output_type": "execute_result"
    }
   ],
   "source": [
    "content"
   ]
  },
  {
   "cell_type": "code",
   "execution_count": null,
   "metadata": {},
   "outputs": [],
   "source": []
  }
 ],
 "metadata": {
  "kernelspec": {
   "display_name": "Python 3",
   "language": "python",
   "name": "python3"
  },
  "language_info": {
   "codemirror_mode": {
    "name": "ipython",
    "version": 3
   },
   "file_extension": ".py",
   "mimetype": "text/x-python",
   "name": "python",
   "nbconvert_exporter": "python",
   "pygments_lexer": "ipython3",
   "version": "3.7.4"
  }
 },
 "nbformat": 4,
 "nbformat_minor": 2
}
