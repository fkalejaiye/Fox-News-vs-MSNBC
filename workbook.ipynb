{
 "cells": [
  {
   "cell_type": "code",
   "execution_count": 1,
   "metadata": {},
   "outputs": [],
   "source": [
    "from sklearn.feature_extraction.text import CountVectorizer, TfidfVectorizer\n",
    "from nltk.tokenize import sent_tokenize\n",
    "from nltk.tokenize import word_tokenize\n",
    "from nltk.corpus import stopwords\n",
    "from nltk.stem.porter import PorterStemmer\n",
    "from sklearn.model_selection import train_test_split\n",
    "from sklearn.naive_bayes import MultinomialNB\n",
    "from sklearn.ensemble import RandomForestClassifier\n",
    "import nltk"
   ]
  },
  {
   "cell_type": "code",
   "execution_count": 2,
   "metadata": {},
   "outputs": [],
   "source": [
    "from data_pipline_and_eda_helper_class import *\n",
    "data_pipeline = DataPipeline()"
   ]
  },
  {
   "cell_type": "code",
   "execution_count": 11,
   "metadata": {},
   "outputs": [],
   "source": [
    "stopwords = nltk.corpus.stopwords.words('english')\n",
    "stopwords.append('breitbart')\n",
    "stopwords.append('follow')\n",
    "stopwords.append('facebook')\n",
    "stopwords.append('twitter')\n",
    "stopwords.append('email')\n",
    "vectorizer = TfidfVectorizer(max_df=0.95, min_df=2,stop_words=stopwords,max_features=500)\n",
    "tfidf = vectorizer.fit_transform(articles['content'])\n",
    "X_train, X_test, y_train, y_test = train_test_split(tfidf, articles['source'],test_size=0.2, random_state=0)"
   ]
  },
  {
   "cell_type": "code",
   "execution_count": 12,
   "metadata": {},
   "outputs": [
    {
     "data": {
      "text/plain": [
       "0.913730255164034"
      ]
     },
     "execution_count": 12,
     "metadata": {},
     "output_type": "execute_result"
    }
   ],
   "source": [
    "model1 = MultinomialNB(0.1)\n",
    "model1.fit(X_train,y_train)\n",
    "model1.score(X_test,y_test)"
   ]
  },
  {
   "cell_type": "code",
   "execution_count": 13,
   "metadata": {},
   "outputs": [
    {
     "data": {
      "text/plain": [
       "0.9586877278250304"
      ]
     },
     "execution_count": 13,
     "metadata": {},
     "output_type": "execute_result"
    }
   ],
   "source": [
    "model2 = RandomForestClassifier(n_estimators=60)\n",
    "model2.fit(X_train, y_train)\n",
    "model2.score(X_test,y_test)"
   ]
  },
  {
   "cell_type": "code",
   "execution_count": 14,
   "metadata": {},
   "outputs": [],
   "source": [
    "def test_bias(text,model):\n",
    "    vectorizer = TfidfVectorizer(max_df=0.95, min_df=2, stop_words='english',max_features=500)\n",
    "    X = vectorizer.fit_transform(text)\n",
    "    yhat= model.predict_proba(X)\n",
    "    breit = [i[0] for i in yhat]\n",
    "    occ = [i[1] for i in yhat]\n",
    "    yhat2 = model.predict(X)\n",
    "    count=0\n",
    "    for pred in yhat2:\n",
    "        if pred=='breitbart':\n",
    "            count+=1\n",
    "    breit_freq = (count/31)*100\n",
    "    return f'Predicted as Breitbart {round(breit_freq,2)}% of the time.'\n",
    "\n",
    "\n"
   ]
  },
  {
   "cell_type": "code",
   "execution_count": 15,
   "metadata": {},
   "outputs": [],
   "source": [
    "reuters = pipeline('reuters')\n",
    "fox_news = pipeline('fox')"
   ]
  },
  {
   "cell_type": "code",
   "execution_count": 16,
   "metadata": {},
   "outputs": [
    {
     "data": {
      "text/plain": [
       "'Predicted as Breitbart 74.19% of the time.'"
      ]
     },
     "execution_count": 16,
     "metadata": {},
     "output_type": "execute_result"
    }
   ],
   "source": [
    "test_bias(fox_news['content'],model2)"
   ]
  },
  {
   "cell_type": "code",
   "execution_count": 17,
   "metadata": {},
   "outputs": [
    {
     "data": {
      "text/plain": [
       "'Predicted as Breitbart 58.06% of the time.'"
      ]
     },
     "execution_count": 17,
     "metadata": {},
     "output_type": "execute_result"
    }
   ],
   "source": [
    "test_bias(reuters['content'],model2)"
   ]
  },
  {
   "cell_type": "code",
   "execution_count": 19,
   "metadata": {},
   "outputs": [],
   "source": [
    "def get_most_important_words(model,num_of_words):\n",
    "    importances = model.feature_importances_\n",
    "    indices = np.argsort(importances)[::-1]\n",
    "\n",
    "    feature_names = vectorizer.get_feature_names()\n",
    "    top_words = []\n",
    "\n",
    "    for i in range(num_of_words):\n",
    "        top_words.append(feature_names[indices[i]])\n",
    "    return top_words"
   ]
  },
  {
   "cell_type": "code",
   "execution_count": 24,
   "metadata": {},
   "outputs": [
    {
     "data": {
      "text/plain": [
       "['coronavirus',\n",
       " 'trump',\n",
       " 'said',\n",
       " 'pandemic',\n",
       " 'added',\n",
       " 'april',\n",
       " '2020',\n",
       " 'virus',\n",
       " 'thursday',\n",
       " 'covid',\n",
       " 'republican',\n",
       " 'tuesday',\n",
       " 'chinese',\n",
       " 'add',\n",
       " 'president',\n",
       " 'biden',\n",
       " '2017',\n",
       " 'friday',\n",
       " '19',\n",
       " 'donald']"
      ]
     },
     "execution_count": 24,
     "metadata": {},
     "output_type": "execute_result"
    }
   ],
   "source": [
    "get_most_important_words(model2,20)"
   ]
  },
  {
   "cell_type": "code",
   "execution_count": 21,
   "metadata": {},
   "outputs": [
    {
     "data": {
      "text/plain": [
       "'In a historic victory for gay and human rights advocates of America and abroad, the Boy Scouts of America announced today that it will propose a measure at May 20th’s National Council meeting to lift the long-standing ban on gay youth members. The move is a response to unprecedented progressive pressure on the BSA exerted by social networks, which helped sway public opinion to the point where the Boy Scouts of America folded under the weight of the public’s ever increasing disapproval of their bigoted and discriminatory practices. Along with their announcement, The BSA revealed that it previously sent out a survey to it’s over 1 million members, to which respondents answered that they supported the current policy of excluding gays by a margin of 61% to 34%, while a majority of younger parents and teens opposed the policy. For the first time in the 103 year history of the Boy Scouts of America, American gays and lesbians will be able to take part in an organization that is as American as apple pie, but for over a century inexplicably decided to discriminate against young boys and girls that wanted nothing more than the same chance and opportunity to partake in the organization enjoyed by their heterosexual counterparts. With this decision, the BSA will take a giant step forward towards making up for their past discrimination and turning a new page of acceptance and inclusiveness. However, we must maintain the public pressure on them, not only to ensure that the ban is properly lifted, but because the ban is only being lifted for youth members but not gay adult leaders. In explaining their decision to continue discriminating against gay adults, the BSA released a statement, cynically estimating that easing the ban on gay adults could cost widespread defections that would cost the organization 100,000 to 350,000 members. Of course, they failed to mention the fact that no other major organization nor employer in the country(including schools and childcare providers) that deal with young Americans publicly discriminates against gays, nor has had any issues relating to an exodus of young members due to gay acceptance. Progressives must keep the heat on private corporations, organizations, and public officials in order to bring an appropriate end to the human rights issue of our generation. You can do your part by sharing this and other related articles, making phone calls, and simply getting the word out to friends and family'"
      ]
     },
     "execution_count": 21,
     "metadata": {},
     "output_type": "execute_result"
    }
   ],
   "source": [
    "articles['content'].iloc[0]"
   ]
  },
  {
   "cell_type": "code",
   "execution_count": 23,
   "metadata": {},
   "outputs": [
    {
     "data": {
      "text/plain": [
       "\"Singer-songwriter Meredith Brooks called out Alyssa Milano’s endorsement of Vice President Joe Biden’s presidential campaign, accusing the actress of hypocrisy over her claims to support all victims of sexual misconduct. Brooks specifically addressed Milano, who led an unsuccessful crusade against President Donald Trump’s Supreme Court nominee Brett Kavanaugh over unsubstantiated claims of past sexual misconduct. The singer, wrote a huge hit called “Bitch” about female empowerment, said that as a victim of child molestation, seeing photos of Biden touching children made her “blood curl.” “[Alyssa Milano]\\u2069 as a child victim of molestation this curdles my blood I’ve never spoken about this before but I have no choice now,” Brooks said, alongside a collage of Biden touching and kissing various children. “You need to wake up.” Brooks’ collage of Biden is accompanied by the caption: “Stop pretending this is normal.” \\u2066\\u2066@Alyssa_Milano\\u2069 as a child victim of molestation this curdles my blood I’ve never spoken about this before but I have no choice now. You need to wake up \\u2066@rosemcgowan\\u2069 \\u2066\\u2066@robbystarbuck\\u2069 pic.twitter.com/jR3CnD09Ex — MeredithBrooks (@MeredithBrooks) April 15, 2020 “Where are all the #MeToo supporters?” Brooks wrote in a separate tweet, in response to a\\xa0New York Times\\xa0in which the paper said\\xa0they found “no pattern of sexual misconduct by Biden beyond hugs, kisses and touching that women previously said made them uncomfortable.” Where are all the #MeToo supporters? https://t.co/fBqQrxhbwc — MeredithBrooks (@MeredithBrooks) April 15, 2020 Milano responded to growing questions about Biden’s behavior earlier this month, where she accused his critics of weaponizing the #MeToo movement for political gain. “There is something to the idea that people are going to weaponize #metoo\\xa0for political gain,” Milano said. “Just look at the replies here and look to see who those accounts are supporting in the primary. There always needs to be a thorough vetting of accusations.” There is something to the idea that people are going to weaponize #metoo for political gain. Just look at the replies here and look to see who those accounts are supporting in the primary. There always needs to be a thorough vetting of accusations. — Alyssa Milano (@Alyssa_Milano) April 6, 2020 “Not good enough come on girl you have to start trusting your instincts,” Brooks responded on Thursday, calling out Milano. “Everyone but you can see the history, pictures, videos??? Maybe he’s not guilty but for you to endorse him without investigation Remember #BelieveWomen?” Not good enough come on girl you have to start trusting your instincts. Everyone but you can see the history, pictures, videos??? Maybe he's not guilty but for you to endorse him without investigation Remember #BelieveWomen ? — MeredithBrooks (@MeredithBrooks) April 16, 2020 As well as his penchant for inappropriately touching children, Biden has also faced an allegation of sexual assault. Last month, former congressional staffer Tara Reade accused\\xa0Biden of forcing\\xa0her against a wall and putting his hands under her shirt and skirt and penetrating her. Brooks is not the only critic of those defending Biden’s behavior. Last week, actress and #MeToo activist Rose McGowan accused the mainstream media of being “hard at work covering up for Creepy\\xa0Joe Biden.” “I don’t have Covid-19, but the media in USA is making me ill,” McGowan said in response to a tweet from The Intercept’s Glenn Greenwald. “The complicity machine is hard at work covering up for Creepy [Joe Biden.] Has @nbcnews asked any hard questions? Everyone knows he’ll lose, why not go hard? Why not TELL THE TRUTH.” I don’t have Covid-19, but the media  in USA is making me ill. The complicity machine is hard at work covering up for Creepy @joebiden. Has @nbcnews asked any hard questions? Everyone knows he’ll lose, why not go hard? Why not TELL THE TRUTH https://t\""
      ]
     },
     "execution_count": 23,
     "metadata": {},
     "output_type": "execute_result"
    }
   ],
   "source": [
    "articles['content'].iloc[7307]"
   ]
  },
  {
   "cell_type": "code",
   "execution_count": null,
   "metadata": {},
   "outputs": [],
   "source": []
  }
 ],
 "metadata": {
  "kernelspec": {
   "display_name": "Python 3",
   "language": "python",
   "name": "python3"
  },
  "language_info": {
   "codemirror_mode": {
    "name": "ipython",
    "version": 3
   },
   "file_extension": ".py",
   "mimetype": "text/x-python",
   "name": "python",
   "nbconvert_exporter": "python",
   "pygments_lexer": "ipython3",
   "version": "3.7.4"
  }
 },
 "nbformat": 4,
 "nbformat_minor": 2
}
