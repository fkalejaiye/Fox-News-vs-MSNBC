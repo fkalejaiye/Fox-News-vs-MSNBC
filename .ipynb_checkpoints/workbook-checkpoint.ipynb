{
 "cells": [
  {
   "cell_type": "code",
   "execution_count": 1,
   "metadata": {},
   "outputs": [],
   "source": [
    "import pandas as pd\n",
    "from pymongo import MongoClient\n",
    "import matplotlib.pyplot as plt\n",
    "%matplotlib inline\n",
    "plt.style.use('ggplot')"
   ]
  },
  {
   "cell_type": "code",
   "execution_count": 2,
   "metadata": {},
   "outputs": [],
   "source": [
    "def pipeline(news_source):\n",
    "    client = MongoClient()\n",
    "    db = client[f'{news_source}']\n",
    "    articles = db['articles']\n",
    "    df = pd.DataFrame(list(articles.find()))\n",
    "    df = df.iloc[:,1:]\n",
    "    df['title']=[title.strip() for title in df['title']]\n",
    "    df = df.drop_duplicates()\n",
    "    df['source']=f'{news_source}'\n",
    "    df.reset_index(inplace=True)\n",
    "    df = df.iloc[:,1:]\n",
    "    return df"
   ]
  },
  {
   "cell_type": "code",
   "execution_count": 42,
   "metadata": {},
   "outputs": [],
   "source": [
    "t = pipeline('fox')"
   ]
  },
  {
   "cell_type": "code",
   "execution_count": 3,
   "metadata": {},
   "outputs": [
    {
     "data": {
      "text/html": [
       "<div>\n",
       "<style scoped>\n",
       "    .dataframe tbody tr th:only-of-type {\n",
       "        vertical-align: middle;\n",
       "    }\n",
       "\n",
       "    .dataframe tbody tr th {\n",
       "        vertical-align: top;\n",
       "    }\n",
       "\n",
       "    .dataframe thead th {\n",
       "        text-align: right;\n",
       "    }\n",
       "</style>\n",
       "<table border=\"1\" class=\"dataframe\">\n",
       "  <thead>\n",
       "    <tr style=\"text-align: right;\">\n",
       "      <th></th>\n",
       "      <th>title</th>\n",
       "      <th>author</th>\n",
       "      <th>date</th>\n",
       "      <th>content</th>\n",
       "      <th>source</th>\n",
       "    </tr>\n",
       "  </thead>\n",
       "  <tbody>\n",
       "    <tr>\n",
       "      <td>0</td>\n",
       "      <td>AOC: Tara Reade’s Sexual Assault Allegation Ag...</td>\n",
       "      <td>Penny Starr</td>\n",
       "      <td>7 May 2020</td>\n",
       "      <td>Rep. Alexandria Ocasio-Cortez (D-NY) said in a...</td>\n",
       "      <td>breitbart</td>\n",
       "    </tr>\n",
       "    <tr>\n",
       "      <td>1</td>\n",
       "      <td>GOP Lawmakers: Halt Visas to Foreign Workers W...</td>\n",
       "      <td>John Binder</td>\n",
       "      <td>7 May 2020</td>\n",
       "      <td>A coalition of Republican senators and congres...</td>\n",
       "      <td>breitbart</td>\n",
       "    </tr>\n",
       "    <tr>\n",
       "      <td>2</td>\n",
       "      <td>Chris Christie Slams Obama DOJ After Supreme C...</td>\n",
       "      <td>Joel B. Pollak</td>\n",
       "      <td>7 May 2020</td>\n",
       "      <td>Former New Jersey Gov. Chris Christie slammed ...</td>\n",
       "      <td>breitbart</td>\n",
       "    </tr>\n",
       "    <tr>\n",
       "      <td>3</td>\n",
       "      <td>Yale Scientist: Reopening America Is ‘Awfully ...</td>\n",
       "      <td>Tom Ciccotta</td>\n",
       "      <td>7 May 2020</td>\n",
       "      <td>A Yale University scientist argued in a social...</td>\n",
       "      <td>breitbart</td>\n",
       "    </tr>\n",
       "    <tr>\n",
       "      <td>4</td>\n",
       "      <td>Schumer: Trump, McCarthy, McConnell ‘Remind Me...</td>\n",
       "      <td>Trent Baker</td>\n",
       "      <td>7 May 2020</td>\n",
       "      <td>In a Thursday appearance on MSNBC, Senate Mino...</td>\n",
       "      <td>breitbart</td>\n",
       "    </tr>\n",
       "    <tr>\n",
       "      <td>...</td>\n",
       "      <td>...</td>\n",
       "      <td>...</td>\n",
       "      <td>...</td>\n",
       "      <td>...</td>\n",
       "      <td>...</td>\n",
       "    </tr>\n",
       "    <tr>\n",
       "      <td>5023</td>\n",
       "      <td>CNN’s Begala: ‘Tactically, Really Dumb’ for De...</td>\n",
       "      <td>Ian Hanchett</td>\n",
       "      <td>20 Feb 2020</td>\n",
       "      <td>On Thursday’s broadcast of CNN’s “New Day,” CN...</td>\n",
       "      <td>breitbart</td>\n",
       "    </tr>\n",
       "    <tr>\n",
       "      <td>5024</td>\n",
       "      <td>Jim Bognet Blankets Airwaves in Pennsylvania w...</td>\n",
       "      <td>Sean Moran</td>\n",
       "      <td>20 Feb 2020</td>\n",
       "      <td>Former Donald Trump administration staffer and...</td>\n",
       "      <td>breitbart</td>\n",
       "    </tr>\n",
       "    <tr>\n",
       "      <td>5025</td>\n",
       "      <td>Poll: Bernie Sanders and Michael Bloomberg Lea...</td>\n",
       "      <td>Hannah Bleau</td>\n",
       "      <td>20 Feb 2020</td>\n",
       "      <td>Sen. Bernie Sanders (I-VT) and Michael Bloombe...</td>\n",
       "      <td>breitbart</td>\n",
       "    </tr>\n",
       "    <tr>\n",
       "      <td>5026</td>\n",
       "      <td>Watch Live: President Donald Trump Speaks at P...</td>\n",
       "      <td>Charlie Spiering</td>\n",
       "      <td>20 Feb 2020</td>\n",
       "      <td>President Donald Trump will speak at a Hope fo...</td>\n",
       "      <td>breitbart</td>\n",
       "    </tr>\n",
       "    <tr>\n",
       "      <td>5027</td>\n",
       "      <td>Watch — Whoopi Goldberg Grills AOC for Bashing...</td>\n",
       "      <td>Alana Mastrangelo</td>\n",
       "      <td>20 Feb 2020</td>\n",
       "      <td>Actress and daytime talk show host Whoopi Gold...</td>\n",
       "      <td>breitbart</td>\n",
       "    </tr>\n",
       "  </tbody>\n",
       "</table>\n",
       "<p>5028 rows × 5 columns</p>\n",
       "</div>"
      ],
      "text/plain": [
       "                                                  title             author  \\\n",
       "0     AOC: Tara Reade’s Sexual Assault Allegation Ag...        Penny Starr   \n",
       "1     GOP Lawmakers: Halt Visas to Foreign Workers W...        John Binder   \n",
       "2     Chris Christie Slams Obama DOJ After Supreme C...     Joel B. Pollak   \n",
       "3     Yale Scientist: Reopening America Is ‘Awfully ...       Tom Ciccotta   \n",
       "4     Schumer: Trump, McCarthy, McConnell ‘Remind Me...        Trent Baker   \n",
       "...                                                 ...                ...   \n",
       "5023  CNN’s Begala: ‘Tactically, Really Dumb’ for De...       Ian Hanchett   \n",
       "5024  Jim Bognet Blankets Airwaves in Pennsylvania w...         Sean Moran   \n",
       "5025  Poll: Bernie Sanders and Michael Bloomberg Lea...       Hannah Bleau   \n",
       "5026  Watch Live: President Donald Trump Speaks at P...   Charlie Spiering   \n",
       "5027  Watch — Whoopi Goldberg Grills AOC for Bashing...  Alana Mastrangelo   \n",
       "\n",
       "             date                                            content  \\\n",
       "0      7 May 2020  Rep. Alexandria Ocasio-Cortez (D-NY) said in a...   \n",
       "1      7 May 2020  A coalition of Republican senators and congres...   \n",
       "2      7 May 2020  Former New Jersey Gov. Chris Christie slammed ...   \n",
       "3      7 May 2020  A Yale University scientist argued in a social...   \n",
       "4      7 May 2020  In a Thursday appearance on MSNBC, Senate Mino...   \n",
       "...           ...                                                ...   \n",
       "5023  20 Feb 2020  On Thursday’s broadcast of CNN’s “New Day,” CN...   \n",
       "5024  20 Feb 2020  Former Donald Trump administration staffer and...   \n",
       "5025  20 Feb 2020  Sen. Bernie Sanders (I-VT) and Michael Bloombe...   \n",
       "5026  20 Feb 2020  President Donald Trump will speak at a Hope fo...   \n",
       "5027  20 Feb 2020  Actress and daytime talk show host Whoopi Gold...   \n",
       "\n",
       "         source  \n",
       "0     breitbart  \n",
       "1     breitbart  \n",
       "2     breitbart  \n",
       "3     breitbart  \n",
       "4     breitbart  \n",
       "...         ...  \n",
       "5023  breitbart  \n",
       "5024  breitbart  \n",
       "5025  breitbart  \n",
       "5026  breitbart  \n",
       "5027  breitbart  \n",
       "\n",
       "[5028 rows x 5 columns]"
      ]
     },
     "execution_count": 3,
     "metadata": {},
     "output_type": "execute_result"
    }
   ],
   "source": [
    "pipeline('breitbart')"
   ]
  },
  {
   "cell_type": "code",
   "execution_count": 4,
   "metadata": {},
   "outputs": [
    {
     "data": {
      "text/html": [
       "<div>\n",
       "<style scoped>\n",
       "    .dataframe tbody tr th:only-of-type {\n",
       "        vertical-align: middle;\n",
       "    }\n",
       "\n",
       "    .dataframe tbody tr th {\n",
       "        vertical-align: top;\n",
       "    }\n",
       "\n",
       "    .dataframe thead th {\n",
       "        text-align: right;\n",
       "    }\n",
       "</style>\n",
       "<table border=\"1\" class=\"dataframe\">\n",
       "  <thead>\n",
       "    <tr style=\"text-align: right;\">\n",
       "      <th></th>\n",
       "      <th>title</th>\n",
       "      <th>author</th>\n",
       "      <th>date</th>\n",
       "      <th>content</th>\n",
       "      <th>source</th>\n",
       "    </tr>\n",
       "  </thead>\n",
       "  <tbody>\n",
       "    <tr>\n",
       "      <td>0</td>\n",
       "      <td>Historic Win For Progressives as Boy Scouts Li...</td>\n",
       "      <td>Colin Taylor</td>\n",
       "      <td>April 19, 2013</td>\n",
       "      <td>In a historic victory for gay and human rights...</td>\n",
       "      <td>occupy_democrats</td>\n",
       "    </tr>\n",
       "    <tr>\n",
       "      <td>1</td>\n",
       "      <td>Governor Perry and Texan Republicans Hypocriti...</td>\n",
       "      <td>Colin Taylor</td>\n",
       "      <td>April 20, 2013</td>\n",
       "      <td>Just as America thought Texan Republicans had ...</td>\n",
       "      <td>occupy_democrats</td>\n",
       "    </tr>\n",
       "    <tr>\n",
       "      <td>2</td>\n",
       "      <td>Due to Weak American Gun Control Laws, Al Qued...</td>\n",
       "      <td>Colin Taylor</td>\n",
       "      <td>April 21, 2013</td>\n",
       "      <td>An American Al Qaeda spokesman says it’s so ea...</td>\n",
       "      <td>occupy_democrats</td>\n",
       "    </tr>\n",
       "    <tr>\n",
       "      <td>3</td>\n",
       "      <td>Costco Pays Well and Soars, While Wal-Mart and...</td>\n",
       "      <td>Colin Taylor</td>\n",
       "      <td>April 22, 2013</td>\n",
       "      <td>It’s official, paying decent wages and treatin...</td>\n",
       "      <td>occupy_democrats</td>\n",
       "    </tr>\n",
       "    <tr>\n",
       "      <td>4</td>\n",
       "      <td>New Study Finds That Supporters of Reaganomics...</td>\n",
       "      <td>Colin Taylor</td>\n",
       "      <td>April 22, 2013</td>\n",
       "      <td>According to a new study by Psychological Scie...</td>\n",
       "      <td>occupy_democrats</td>\n",
       "    </tr>\n",
       "    <tr>\n",
       "      <td>...</td>\n",
       "      <td>...</td>\n",
       "      <td>...</td>\n",
       "      <td>...</td>\n",
       "      <td>...</td>\n",
       "      <td>...</td>\n",
       "    </tr>\n",
       "    <tr>\n",
       "      <td>5126</td>\n",
       "      <td>NC School Board Just Approved the Pepper Spray...</td>\n",
       "      <td>Colin Taylor</td>\n",
       "      <td>May 11, 2016</td>\n",
       "      <td>The woeful tale of North Carolina’s campaign t...</td>\n",
       "      <td>occupy_democrats</td>\n",
       "    </tr>\n",
       "    <tr>\n",
       "      <td>5127</td>\n",
       "      <td>A New Panama Papers Leak Just Revealed The Ame...</td>\n",
       "      <td>Colin Taylor</td>\n",
       "      <td>May 9, 2016</td>\n",
       "      <td>The International Consortium of Journalists to...</td>\n",
       "      <td>occupy_democrats</td>\n",
       "    </tr>\n",
       "    <tr>\n",
       "      <td>5128</td>\n",
       "      <td>Trump’s Biographer Reveals How He Divorced His...</td>\n",
       "      <td>Natalie Dickinson</td>\n",
       "      <td>May 9, 2016</td>\n",
       "      <td>In case we all needed a reminder about how muc...</td>\n",
       "      <td>occupy_democrats</td>\n",
       "    </tr>\n",
       "    <tr>\n",
       "      <td>5129</td>\n",
       "      <td>Jon Stewart Just Brilliantly Summed Up Trump W...</td>\n",
       "      <td>Colin Taylor</td>\n",
       "      <td>May 9, 2016</td>\n",
       "      <td>Former Daily Show host and 9/11 first-responde...</td>\n",
       "      <td>occupy_democrats</td>\n",
       "    </tr>\n",
       "    <tr>\n",
       "      <td>5130</td>\n",
       "      <td>Influential Veterans Call Out Trump: Stop Stea...</td>\n",
       "      <td>Colin Taylor</td>\n",
       "      <td>May 9, 2016</td>\n",
       "      <td>Despite his numerous assertions otherwise, pre...</td>\n",
       "      <td>occupy_democrats</td>\n",
       "    </tr>\n",
       "  </tbody>\n",
       "</table>\n",
       "<p>5131 rows × 5 columns</p>\n",
       "</div>"
      ],
      "text/plain": [
       "                                                  title             author  \\\n",
       "0     Historic Win For Progressives as Boy Scouts Li...       Colin Taylor   \n",
       "1     Governor Perry and Texan Republicans Hypocriti...       Colin Taylor   \n",
       "2     Due to Weak American Gun Control Laws, Al Qued...       Colin Taylor   \n",
       "3     Costco Pays Well and Soars, While Wal-Mart and...       Colin Taylor   \n",
       "4     New Study Finds That Supporters of Reaganomics...       Colin Taylor   \n",
       "...                                                 ...                ...   \n",
       "5126  NC School Board Just Approved the Pepper Spray...       Colin Taylor   \n",
       "5127  A New Panama Papers Leak Just Revealed The Ame...       Colin Taylor   \n",
       "5128  Trump’s Biographer Reveals How He Divorced His...  Natalie Dickinson   \n",
       "5129  Jon Stewart Just Brilliantly Summed Up Trump W...       Colin Taylor   \n",
       "5130  Influential Veterans Call Out Trump: Stop Stea...       Colin Taylor   \n",
       "\n",
       "                date                                            content  \\\n",
       "0     April 19, 2013  In a historic victory for gay and human rights...   \n",
       "1     April 20, 2013  Just as America thought Texan Republicans had ...   \n",
       "2     April 21, 2013  An American Al Qaeda spokesman says it’s so ea...   \n",
       "3     April 22, 2013  It’s official, paying decent wages and treatin...   \n",
       "4     April 22, 2013  According to a new study by Psychological Scie...   \n",
       "...              ...                                                ...   \n",
       "5126    May 11, 2016  The woeful tale of North Carolina’s campaign t...   \n",
       "5127     May 9, 2016  The International Consortium of Journalists to...   \n",
       "5128     May 9, 2016  In case we all needed a reminder about how muc...   \n",
       "5129     May 9, 2016  Former Daily Show host and 9/11 first-responde...   \n",
       "5130     May 9, 2016  Despite his numerous assertions otherwise, pre...   \n",
       "\n",
       "                source  \n",
       "0     occupy_democrats  \n",
       "1     occupy_democrats  \n",
       "2     occupy_democrats  \n",
       "3     occupy_democrats  \n",
       "4     occupy_democrats  \n",
       "...                ...  \n",
       "5126  occupy_democrats  \n",
       "5127  occupy_democrats  \n",
       "5128  occupy_democrats  \n",
       "5129  occupy_democrats  \n",
       "5130  occupy_democrats  \n",
       "\n",
       "[5131 rows x 5 columns]"
      ]
     },
     "execution_count": 4,
     "metadata": {},
     "output_type": "execute_result"
    }
   ],
   "source": [
    "pipeline('occupy_democrats')\n"
   ]
  },
  {
   "cell_type": "code",
   "execution_count": 5,
   "metadata": {},
   "outputs": [
    {
     "data": {
      "text/html": [
       "<div>\n",
       "<style scoped>\n",
       "    .dataframe tbody tr th:only-of-type {\n",
       "        vertical-align: middle;\n",
       "    }\n",
       "\n",
       "    .dataframe tbody tr th {\n",
       "        vertical-align: top;\n",
       "    }\n",
       "\n",
       "    .dataframe thead th {\n",
       "        text-align: right;\n",
       "    }\n",
       "</style>\n",
       "<table border=\"1\" class=\"dataframe\">\n",
       "  <thead>\n",
       "    <tr style=\"text-align: right;\">\n",
       "      <th></th>\n",
       "      <th>title</th>\n",
       "      <th>author</th>\n",
       "      <th>date</th>\n",
       "      <th>content</th>\n",
       "      <th>source</th>\n",
       "    </tr>\n",
       "  </thead>\n",
       "  <tbody>\n",
       "    <tr>\n",
       "      <td>0</td>\n",
       "      <td>Historic Win For Progressives as Boy Scouts Li...</td>\n",
       "      <td>Colin Taylor</td>\n",
       "      <td>April 19, 2013</td>\n",
       "      <td>In a historic victory for gay and human rights...</td>\n",
       "      <td>occupy_democrats</td>\n",
       "    </tr>\n",
       "    <tr>\n",
       "      <td>1</td>\n",
       "      <td>Governor Perry and Texan Republicans Hypocriti...</td>\n",
       "      <td>Colin Taylor</td>\n",
       "      <td>April 20, 2013</td>\n",
       "      <td>Just as America thought Texan Republicans had ...</td>\n",
       "      <td>occupy_democrats</td>\n",
       "    </tr>\n",
       "    <tr>\n",
       "      <td>2</td>\n",
       "      <td>Due to Weak American Gun Control Laws, Al Qued...</td>\n",
       "      <td>Colin Taylor</td>\n",
       "      <td>April 21, 2013</td>\n",
       "      <td>An American Al Qaeda spokesman says it’s so ea...</td>\n",
       "      <td>occupy_democrats</td>\n",
       "    </tr>\n",
       "    <tr>\n",
       "      <td>3</td>\n",
       "      <td>Costco Pays Well and Soars, While Wal-Mart and...</td>\n",
       "      <td>Colin Taylor</td>\n",
       "      <td>April 22, 2013</td>\n",
       "      <td>It’s official, paying decent wages and treatin...</td>\n",
       "      <td>occupy_democrats</td>\n",
       "    </tr>\n",
       "    <tr>\n",
       "      <td>4</td>\n",
       "      <td>New Study Finds That Supporters of Reaganomics...</td>\n",
       "      <td>Colin Taylor</td>\n",
       "      <td>April 22, 2013</td>\n",
       "      <td>According to a new study by Psychological Scie...</td>\n",
       "      <td>occupy_democrats</td>\n",
       "    </tr>\n",
       "    <tr>\n",
       "      <td>...</td>\n",
       "      <td>...</td>\n",
       "      <td>...</td>\n",
       "      <td>...</td>\n",
       "      <td>...</td>\n",
       "      <td>...</td>\n",
       "    </tr>\n",
       "    <tr>\n",
       "      <td>5023</td>\n",
       "      <td>CNN’s Begala: ‘Tactically, Really Dumb’ for De...</td>\n",
       "      <td>Ian Hanchett</td>\n",
       "      <td>20 Feb 2020</td>\n",
       "      <td>On Thursday’s broadcast of CNN’s “New Day,” CN...</td>\n",
       "      <td>breitbart</td>\n",
       "    </tr>\n",
       "    <tr>\n",
       "      <td>5024</td>\n",
       "      <td>Jim Bognet Blankets Airwaves in Pennsylvania w...</td>\n",
       "      <td>Sean Moran</td>\n",
       "      <td>20 Feb 2020</td>\n",
       "      <td>Former Donald Trump administration staffer and...</td>\n",
       "      <td>breitbart</td>\n",
       "    </tr>\n",
       "    <tr>\n",
       "      <td>5025</td>\n",
       "      <td>Poll: Bernie Sanders and Michael Bloomberg Lea...</td>\n",
       "      <td>Hannah Bleau</td>\n",
       "      <td>20 Feb 2020</td>\n",
       "      <td>Sen. Bernie Sanders (I-VT) and Michael Bloombe...</td>\n",
       "      <td>breitbart</td>\n",
       "    </tr>\n",
       "    <tr>\n",
       "      <td>5026</td>\n",
       "      <td>Watch Live: President Donald Trump Speaks at P...</td>\n",
       "      <td>Charlie Spiering</td>\n",
       "      <td>20 Feb 2020</td>\n",
       "      <td>President Donald Trump will speak at a Hope fo...</td>\n",
       "      <td>breitbart</td>\n",
       "    </tr>\n",
       "    <tr>\n",
       "      <td>5027</td>\n",
       "      <td>Watch — Whoopi Goldberg Grills AOC for Bashing...</td>\n",
       "      <td>Alana Mastrangelo</td>\n",
       "      <td>20 Feb 2020</td>\n",
       "      <td>Actress and daytime talk show host Whoopi Gold...</td>\n",
       "      <td>breitbart</td>\n",
       "    </tr>\n",
       "  </tbody>\n",
       "</table>\n",
       "<p>10159 rows × 5 columns</p>\n",
       "</div>"
      ],
      "text/plain": [
       "                                                  title             author  \\\n",
       "0     Historic Win For Progressives as Boy Scouts Li...       Colin Taylor   \n",
       "1     Governor Perry and Texan Republicans Hypocriti...       Colin Taylor   \n",
       "2     Due to Weak American Gun Control Laws, Al Qued...       Colin Taylor   \n",
       "3     Costco Pays Well and Soars, While Wal-Mart and...       Colin Taylor   \n",
       "4     New Study Finds That Supporters of Reaganomics...       Colin Taylor   \n",
       "...                                                 ...                ...   \n",
       "5023  CNN’s Begala: ‘Tactically, Really Dumb’ for De...       Ian Hanchett   \n",
       "5024  Jim Bognet Blankets Airwaves in Pennsylvania w...         Sean Moran   \n",
       "5025  Poll: Bernie Sanders and Michael Bloomberg Lea...       Hannah Bleau   \n",
       "5026  Watch Live: President Donald Trump Speaks at P...   Charlie Spiering   \n",
       "5027  Watch — Whoopi Goldberg Grills AOC for Bashing...  Alana Mastrangelo   \n",
       "\n",
       "                date                                            content  \\\n",
       "0     April 19, 2013  In a historic victory for gay and human rights...   \n",
       "1     April 20, 2013  Just as America thought Texan Republicans had ...   \n",
       "2     April 21, 2013  An American Al Qaeda spokesman says it’s so ea...   \n",
       "3     April 22, 2013  It’s official, paying decent wages and treatin...   \n",
       "4     April 22, 2013  According to a new study by Psychological Scie...   \n",
       "...              ...                                                ...   \n",
       "5023     20 Feb 2020  On Thursday’s broadcast of CNN’s “New Day,” CN...   \n",
       "5024     20 Feb 2020  Former Donald Trump administration staffer and...   \n",
       "5025     20 Feb 2020  Sen. Bernie Sanders (I-VT) and Michael Bloombe...   \n",
       "5026     20 Feb 2020  President Donald Trump will speak at a Hope fo...   \n",
       "5027     20 Feb 2020  Actress and daytime talk show host Whoopi Gold...   \n",
       "\n",
       "                source  \n",
       "0     occupy_democrats  \n",
       "1     occupy_democrats  \n",
       "2     occupy_democrats  \n",
       "3     occupy_democrats  \n",
       "4     occupy_democrats  \n",
       "...                ...  \n",
       "5023         breitbart  \n",
       "5024         breitbart  \n",
       "5025         breitbart  \n",
       "5026         breitbart  \n",
       "5027         breitbart  \n",
       "\n",
       "[10159 rows x 5 columns]"
      ]
     },
     "execution_count": 5,
     "metadata": {},
     "output_type": "execute_result"
    }
   ],
   "source": [
    "articles = pd.concat([pipeline('occupy_democrats'),pipeline('breitbart')])\n",
    "articles"
   ]
  },
  {
   "cell_type": "code",
   "execution_count": 6,
   "metadata": {},
   "outputs": [],
   "source": [
    "def plot_word_counts():\n",
    "    def get_word_count(article):\n",
    "        return len(article.split())\n",
    "    word_count_oc=[]\n",
    "    word_count_breit= []\n",
    "    for idx,article in enumerate(articles['content']):\n",
    "        if articles['source'].iloc[idx]=='occupy_democrats':\n",
    "            word_count_oc.append(get_word_count(article))\n",
    "        else:\n",
    "            word_count_breit.append(get_word_count(article))\n",
    "    \n",
    "    fig,ax = plt.subplots(1,2,figsize=(16,8),sharey=True)\n",
    "    ax[0].hist(word_count_oc,color=\"b\",label=\"Occupy Democrats\")\n",
    "    ax[1].hist(word_count_breit,label=\"Breitbart\")\n",
    "    fig.legend();"
   ]
  },
  {
   "cell_type": "code",
   "execution_count": 7,
   "metadata": {},
   "outputs": [
    {
     "data": {
      "image/png": "[encoded data removed]",
      "text/plain": [
       "<Figure size 1152x576 with 2 Axes>"
      ]
     },
     "metadata": {
      "needs_background": "light"
     },
     "output_type": "display_data"
    }
   ],
   "source": [
    "plot_word_counts()"
   ]
  },
  {
   "cell_type": "code",
   "execution_count": 8,
   "metadata": {},
   "outputs": [
    {
     "data": {
      "text/plain": [
       "author            source   \n",
       "Charlie Spiering  breitbart    434\n",
       "Hannah Bleau      breitbart    393\n",
       "Pam Key           breitbart    313\n",
       "Joshua Caplan     breitbart    308\n",
       "Ian Hanchett      breitbart    232\n",
       "Joel B. Pollak    breitbart    192\n",
       "John Binder       breitbart    186\n",
       "Trent Baker       breitbart    158\n",
       "AWR Hawkins       breitbart    146\n",
       "Penny Starr       breitbart    146\n",
       "Name: title, dtype: int64"
      ]
     },
     "execution_count": 8,
     "metadata": {},
     "output_type": "execute_result"
    }
   ],
   "source": [
    "breitbart_top_ten = articles[articles['source']=='breitbart'].groupby(['author','source']).count().sort_values('date',ascending=False)['title'].iloc[0:10]\n",
    "breitbart_top_ten"
   ]
  },
  {
   "cell_type": "code",
   "execution_count": 9,
   "metadata": {},
   "outputs": [
    {
     "data": {
      "text/plain": [
       "author             source          \n",
       "Colin Taylor       occupy_democrats    920\n",
       "Natalie Dickinson  occupy_democrats    768\n",
       "Vinnie Longobardo  occupy_democrats    633\n",
       "Grant Stern        occupy_democrats    515\n",
       "Brian Tyler Cohen  occupy_democrats    438\n",
       "Sheila Norton      occupy_democrats    371\n",
       "Rob Haffey         occupy_democrats    361\n",
       "Marisa Manfredo    occupy_democrats    245\n",
       "Peter Mellado      occupy_democrats    194\n",
       "Benjamin Locke     occupy_democrats    189\n",
       "Name: title, dtype: int64"
      ]
     },
     "execution_count": 9,
     "metadata": {},
     "output_type": "execute_result"
    }
   ],
   "source": [
    "occupy_top_ten = articles[articles['source']=='occupy_democrats'].groupby(['author','source']).count().sort_values('date',ascending=False)['title'].iloc[0:10]\n",
    "occupy_top_ten"
   ]
  },
  {
   "cell_type": "code",
   "execution_count": 10,
   "metadata": {},
   "outputs": [
    {
     "data": {
      "image/png": "[encoded data removed]",
      "text/plain": [
       "<Figure size 1152x576 with 1 Axes>"
      ]
     },
     "metadata": {
      "needs_background": "light"
     },
     "output_type": "display_data"
    }
   ],
   "source": [
    "fig,ax=plt.subplots(figsize=(16,8))\n",
    "breitbart_top_ten.plot(kind='barh',color=\"r\",alpha=0.5)\n",
    "ax.set_ylabel(\"Author\")\n",
    "ax.set_xlabel(\"Number of Articles Published\")\n",
    "plt.tight_layout();"
   ]
  },
  {
   "cell_type": "code",
   "execution_count": 11,
   "metadata": {},
   "outputs": [
    {
     "data": {
      "image/png": "[encoded data removed]",
      "text/plain": [
       "<Figure size 1152x576 with 1 Axes>"
      ]
     },
     "metadata": {
      "needs_background": "light"
     },
     "output_type": "display_data"
    }
   ],
   "source": [
    "fig,ax=plt.subplots(figsize=(16,8))\n",
    "occupy_top_ten.plot(kind='barh',color=\"b\",alpha=0.5)\n",
    "ax.set_ylabel(\"Author\")\n",
    "ax.set_xlabel(\"Number of Articles Published\")\n",
    "plt.tight_layout();"
   ]
  },
  {
   "cell_type": "code",
   "execution_count": 12,
   "metadata": {},
   "outputs": [],
   "source": [
    "import datetime\n",
    "articles['date'] = pd.to_datetime(articles['date'])"
   ]
  },
  {
   "cell_type": "code",
   "execution_count": 13,
   "metadata": {},
   "outputs": [
    {
     "data": {
      "text/html": [
       "<div>\n",
       "<style scoped>\n",
       "    .dataframe tbody tr th:only-of-type {\n",
       "        vertical-align: middle;\n",
       "    }\n",
       "\n",
       "    .dataframe tbody tr th {\n",
       "        vertical-align: top;\n",
       "    }\n",
       "\n",
       "    .dataframe thead th {\n",
       "        text-align: right;\n",
       "    }\n",
       "</style>\n",
       "<table border=\"1\" class=\"dataframe\">\n",
       "  <thead>\n",
       "    <tr style=\"text-align: right;\">\n",
       "      <th></th>\n",
       "      <th>title</th>\n",
       "      <th>author</th>\n",
       "      <th>content</th>\n",
       "      <th>source</th>\n",
       "    </tr>\n",
       "    <tr>\n",
       "      <th>date</th>\n",
       "      <th></th>\n",
       "      <th></th>\n",
       "      <th></th>\n",
       "      <th></th>\n",
       "    </tr>\n",
       "  </thead>\n",
       "  <tbody>\n",
       "    <tr>\n",
       "      <td>2013-04-19</td>\n",
       "      <td>1</td>\n",
       "      <td>1</td>\n",
       "      <td>1</td>\n",
       "      <td>1</td>\n",
       "    </tr>\n",
       "    <tr>\n",
       "      <td>2013-04-20</td>\n",
       "      <td>1</td>\n",
       "      <td>1</td>\n",
       "      <td>1</td>\n",
       "      <td>1</td>\n",
       "    </tr>\n",
       "    <tr>\n",
       "      <td>2013-04-21</td>\n",
       "      <td>1</td>\n",
       "      <td>1</td>\n",
       "      <td>1</td>\n",
       "      <td>1</td>\n",
       "    </tr>\n",
       "    <tr>\n",
       "      <td>2013-04-22</td>\n",
       "      <td>2</td>\n",
       "      <td>2</td>\n",
       "      <td>2</td>\n",
       "      <td>2</td>\n",
       "    </tr>\n",
       "    <tr>\n",
       "      <td>2016-05-09</td>\n",
       "      <td>4</td>\n",
       "      <td>4</td>\n",
       "      <td>4</td>\n",
       "      <td>4</td>\n",
       "    </tr>\n",
       "    <tr>\n",
       "      <td>...</td>\n",
       "      <td>...</td>\n",
       "      <td>...</td>\n",
       "      <td>...</td>\n",
       "      <td>...</td>\n",
       "    </tr>\n",
       "    <tr>\n",
       "      <td>2020-05-03</td>\n",
       "      <td>55</td>\n",
       "      <td>55</td>\n",
       "      <td>55</td>\n",
       "      <td>55</td>\n",
       "    </tr>\n",
       "    <tr>\n",
       "      <td>2020-05-04</td>\n",
       "      <td>92</td>\n",
       "      <td>92</td>\n",
       "      <td>92</td>\n",
       "      <td>92</td>\n",
       "    </tr>\n",
       "    <tr>\n",
       "      <td>2020-05-05</td>\n",
       "      <td>99</td>\n",
       "      <td>99</td>\n",
       "      <td>99</td>\n",
       "      <td>99</td>\n",
       "    </tr>\n",
       "    <tr>\n",
       "      <td>2020-05-06</td>\n",
       "      <td>109</td>\n",
       "      <td>109</td>\n",
       "      <td>109</td>\n",
       "      <td>109</td>\n",
       "    </tr>\n",
       "    <tr>\n",
       "      <td>2020-05-07</td>\n",
       "      <td>47</td>\n",
       "      <td>47</td>\n",
       "      <td>47</td>\n",
       "      <td>47</td>\n",
       "    </tr>\n",
       "  </tbody>\n",
       "</table>\n",
       "<p>717 rows × 4 columns</p>\n",
       "</div>"
      ],
      "text/plain": [
       "            title  author  content  source\n",
       "date                                      \n",
       "2013-04-19      1       1        1       1\n",
       "2013-04-20      1       1        1       1\n",
       "2013-04-21      1       1        1       1\n",
       "2013-04-22      2       2        2       2\n",
       "2016-05-09      4       4        4       4\n",
       "...           ...     ...      ...     ...\n",
       "2020-05-03     55      55       55      55\n",
       "2020-05-04     92      92       92      92\n",
       "2020-05-05     99      99       99      99\n",
       "2020-05-06    109     109      109     109\n",
       "2020-05-07     47      47       47      47\n",
       "\n",
       "[717 rows x 4 columns]"
      ]
     },
     "execution_count": 13,
     "metadata": {},
     "output_type": "execute_result"
    }
   ],
   "source": [
    "date_counts = articles.sort_values('date').groupby('date').count()\n",
    "date_counts"
   ]
  },
  {
   "cell_type": "code",
   "execution_count": 14,
   "metadata": {},
   "outputs": [],
   "source": [
    "from sklearn.feature_extraction.text import CountVectorizer, TfidfVectorizer\n",
    "from nltk.tokenize import sent_tokenize\n",
    "from nltk.tokenize import word_tokenize\n",
    "from nltk.corpus import stopwords\n",
    "from nltk.stem.porter import PorterStemmer\n",
    "from sklearn.model_selection import train_test_split\n",
    "from sklearn.naive_bayes import MultinomialNB\n",
    "from sklearn.ensemble import RandomForestClassifier\n"
   ]
  },
  {
   "cell_type": "code",
   "execution_count": 15,
   "metadata": {},
   "outputs": [],
   "source": [
    "vocab = set()\n",
    "for article in articles['content']:\n",
    "    for word in article.split():\n",
    "        vocab.add(word)"
   ]
  },
  {
   "cell_type": "code",
   "execution_count": 49,
   "metadata": {},
   "outputs": [],
   "source": [
    "vectorizer = TfidfVectorizer(max_df=0.95, min_df=2, stop_words='english',max_features=1400)\n",
    "tfidf = vectorizer.fit_transform(articles['content'])\n",
    "X_train, X_test, y_train, y_test = train_test_split(tfidf, articles['source'],test_size=0.2, random_state=0)"
   ]
  },
  {
   "cell_type": "code",
   "execution_count": 50,
   "metadata": {},
   "outputs": [
    {
     "data": {
      "text/plain": [
       "0.9232283464566929"
      ]
     },
     "execution_count": 50,
     "metadata": {},
     "output_type": "execute_result"
    }
   ],
   "source": [
    "model1 = MultinomialNB(0.1)\n",
    "model1.fit(X_train,y_train)\n",
    "model1.score(X_test,y_test)"
   ]
  },
  {
   "cell_type": "code",
   "execution_count": 51,
   "metadata": {},
   "outputs": [
    {
     "data": {
      "text/plain": [
       "0.9758858267716536"
      ]
     },
     "execution_count": 51,
     "metadata": {},
     "output_type": "execute_result"
    }
   ],
   "source": [
    "model2 = RandomForestClassifier(n_estimators=60)\n",
    "model2.fit(X_train, y_train)\n",
    "model2.score(X_test,y_test)"
   ]
  },
  {
   "cell_type": "code",
   "execution_count": 52,
   "metadata": {},
   "outputs": [
    {
     "data": {
      "text/plain": [
       "0.9640748031496063"
      ]
     },
     "execution_count": 52,
     "metadata": {},
     "output_type": "execute_result"
    }
   ],
   "source": [
    "model3 = RandomForestClassifier(n_estimators=60,max_depth=10)\n",
    "model3.fit(X_train, y_train)\n",
    "model3.score(X_test,y_test)"
   ]
  },
  {
   "cell_type": "code",
   "execution_count": 69,
   "metadata": {},
   "outputs": [],
   "source": [
    "def test_bias(text,model):\n",
    "    vectorizer = TfidfVectorizer(max_df=0.95, min_df=2, stop_words='english',max_features=1400)\n",
    "    X = vectorizer.fit_transform(text)\n",
    "    yhat = model.predict(X)\n",
    "    count=0\n",
    "    for pred in yhat:\n",
    "        if pred=='breitbart':\n",
    "            count+=1\n",
    "    return (count/31)*100\n",
    "    "
   ]
  },
  {
   "cell_type": "code",
   "execution_count": 70,
   "metadata": {},
   "outputs": [
    {
     "name": "stdout",
     "output_type": "stream",
     "text": [
      "77.41935483870968\n",
      "87.09677419354838\n",
      "77.41935483870968\n"
     ]
    }
   ],
   "source": [
    "print(test_bias(t['content'],model1))\n",
    "print(test_bias(t['content'],model2))\n",
    "print(test_bias(t['content'],model3))"
   ]
  },
  {
   "cell_type": "code",
   "execution_count": null,
   "metadata": {},
   "outputs": [],
   "source": []
  }
 ],
 "metadata": {
  "kernelspec": {
   "display_name": "Python 3",
   "language": "python",
   "name": "python3"
  },
  "language_info": {
   "codemirror_mode": {
    "name": "ipython",
    "version": 3
   },
   "file_extension": ".py",
   "mimetype": "text/x-python",
   "name": "python",
   "nbconvert_exporter": "python",
   "pygments_lexer": "ipython3",
   "version": "3.7.4"
  }
 },
 "nbformat": 4,
 "nbformat_minor": 2
}
