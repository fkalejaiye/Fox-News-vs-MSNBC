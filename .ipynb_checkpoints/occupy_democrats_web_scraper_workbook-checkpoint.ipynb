{
 "cells": [
  {
   "cell_type": "code",
   "execution_count": 162,
   "metadata": {},
   "outputs": [],
   "source": [
    "import numpy as np\n",
    "from pymongo import MongoClient\n",
    "import pandas as pd\n",
    "import requests\n",
    "from bs4 import BeautifulSoup\n",
    "import time\n"
   ]
  },
  {
   "cell_type": "code",
   "execution_count": 163,
   "metadata": {},
   "outputs": [],
   "source": [
    "pages = np.arange(1,4)"
   ]
  },
  {
   "cell_type": "code",
   "execution_count": 166,
   "metadata": {},
   "outputs": [],
   "source": [
    "client = MongoClient()\n",
    "occupy_democrats_db=client['occupy_democrats']\n",
    "urls = occupy_democrats_db['urls']\n",
    "\n",
    "def get_urls(x):\n",
    "    links=[]\n",
    "    for num in x:\n",
    "        pg = requests.get(f'https://occupydemocrats.com/category/politics/page/{num}/')\n",
    "        if pg.status_code==200:\n",
    "            soup = BeautifulSoup(pg.text,\"lxml\")\n",
    "            data = soup.findAll('div', {'class':\"post-title\"})\n",
    "        else:\n",
    "            print(pg.status_code)\n",
    "            continue\n",
    "            \n",
    "        for i in data:\n",
    "            link=(i.find('a').get(\"href\"))\n",
    "            if link not in links:\n",
    "                links.append(link)          \n",
    "        print(f'Scraped {len(links)} urls.')\n",
    "        time.sleep(2)\n",
    "#     for link in links:\n",
    "#         urls.insert_one({'link': link})\n",
    "    print(\"Done!!\")\n",
    "    return links"
   ]
  },
  {
   "cell_type": "code",
   "execution_count": 169,
   "metadata": {},
   "outputs": [
    {
     "name": "stdout",
     "output_type": "stream",
     "text": [
      "Scraped 18 urls.\n",
      "Scraped 28 urls.\n",
      "Scraped 38 urls.\n",
      "Done!!\n"
     ]
    },
    {
     "data": {
      "text/plain": [
       "['https://occupydemocrats.com/2013/04/19/in-historic-win-for-progressives-boy-scouts-lift-103-year-old-ban-on-gay-youth/',\n",
       " 'https://occupydemocrats.com/2013/04/20/governor-perry-and-texan-republicans-hypocritically-demand-federal-aid-after-plant-explosion/',\n",
       " 'https://occupydemocrats.com/2013/04/21/due-to-weak-american-gun-control-laws-al-queda-leaders-urge-terrorists-to-buy-american-guns/',\n",
       " 'https://occupydemocrats.com/2013/04/22/costco-pays-well-and-soars-while-wal-mart-and-others-pay-peanuts-and-sink/',\n",
       " 'https://occupydemocrats.com/2013/04/22/new-study-finds-that-supporters-of-reaganomics-hate-science/',\n",
       " 'https://occupydemocrats.com/2020/05/06/trump-contradicts-nurse-to-her-face-after-she-complains-of-sporadic-protective-equipment/',\n",
       " 'https://occupydemocrats.com/2020/05/06/white-house-official-reveals-trump-plans-to-dispute-the-virus-death-toll-to-make-himself-look-better/',\n",
       " 'https://occupydemocrats.com/2020/05/06/trump-claims-he-wore-a-mask-at-mask-obligatory-mask-factory-despite-video-showing-otherwise/',\n",
       " 'https://occupydemocrats.com/2020/05/05/trump-refuses-to-wear-mask-at-mask-obligatory-mask-factory/',\n",
       " 'https://occupydemocrats.com/2020/05/05/george-conway-issues-sarcastic-to-trumps-moonface-loser-attack-tweet-you-forgot-my-friend-2/',\n",
       " 'https://occupydemocrats.com/2020/05/04/majority-leader-mitch-mcconnell-faces-ethics-inquiry-over-judicial-nominee-in-dc-court-of-appeals/',\n",
       " 'https://occupydemocrats.com/2020/05/04/575387-1/',\n",
       " 'https://occupydemocrats.com/2020/05/04/u-s-mysteriously-absent-from-major-international-virus-vaccine-summit/',\n",
       " 'https://occupydemocrats.com/2020/05/04/trump-admin-bans-entire-coronavirus-task-force-from-testifying-before-congress/',\n",
       " 'https://occupydemocrats.com/2020/05/04/don-lemon-directly-calls-out-trump-for-obsessing-over-obama-in-biting-cnn-segment/',\n",
       " 'https://occupydemocrats.com/2020/05/07/trump-is-sending-a-henchman-to-the-pentagon-to-weed-out-those-disloyal-to-him/',\n",
       " 'https://occupydemocrats.com/2020/05/07/woman-shoots-two-teenage-mcdonalds-employees-after-they-said-she-couldnt-dine-in/',\n",
       " 'https://occupydemocrats.com/2020/05/06/republican-editor-sparks-outrage-for-demand-to-end-lockdowns-call-me-grandma-killer-2/',\n",
       " 'https://occupydemocrats.com/2020/05/04/trump-demands-concast-open-cold-case-probe-into-joe-scarborough-in-furious-tweet/',\n",
       " 'https://occupydemocrats.com/2020/05/03/trump-sunday-tweet-roundup-1/',\n",
       " 'https://occupydemocrats.com/2020/05/02/trump-viciously-attacks-msnbcs-nicolle-wallace-in-crudely-insulting-tweet/',\n",
       " 'https://occupydemocrats.com/2020/05/02/trump-allows-fauci-to-testify-to-gop-senate-panel-after-nixing-appearance-before-dem-house-committee/',\n",
       " 'https://occupydemocrats.com/2020/05/01/trumps-new-press-secretary-holds-her-first-white-house-briefing-immediately-spicers-it/',\n",
       " 'https://occupydemocrats.com/2020/05/01/trump-erupts-at-chuck-schumer-in-immature-insulting-tweets-over-latest-tv-appearance/',\n",
       " 'https://occupydemocrats.com/2020/04/30/trump-says-only-blue-states-need-bailouts-because-red-states-have-more-talent-and-better-mentality/',\n",
       " 'https://occupydemocrats.com/2020/04/30/trump-obsessed-firedancer-who-threatened-biden-online-arrested-with-knives-outside-navy-ship/',\n",
       " 'https://occupydemocrats.com/2020/04/30/acosta-confronts-trump-for-claiming-obama-left-behind-broken-covid-19-tests/',\n",
       " 'https://occupydemocrats.com/2020/04/30/karen-pence-goes-on-fox-and-claims-mike-didnt-know-he-was-supposed-to-wear-a-mask/',\n",
       " 'https://occupydemocrats.com/2020/04/29/kushner-paints-dangerously-inaccurate-virus-outlook-after-praising-trumps-great-success/',\n",
       " 'https://occupydemocrats.com/2020/04/29/trump-childishly-rips-justin-amash-for-floating-3rd-party-presidential-run/',\n",
       " 'https://occupydemocrats.com/2020/04/29/trump-turns-1-million-covid-19-case-landmark-into-brag-about-his-testing-program/',\n",
       " 'https://occupydemocrats.com/2020/04/28/trump-suggests-holding-virus-relief-money-hostage-unless-cities-hand-over-undocumented-migrants/',\n",
       " 'https://occupydemocrats.com/2020/04/28/new-insider-report-shows-trumps-impeachment-score-settling-set-virus-response-back-6-weeks/',\n",
       " 'https://occupydemocrats.com/2020/04/28/republican-senate-candidate-argues-that-trump-told-us-to-inject-disinfectant-to-give-hope/',\n",
       " 'https://occupydemocrats.com/2020/04/28/trumps-press-secretary-gets-publicly-fact-checked-after-promoting-misleading-virus-testing-info/',\n",
       " 'https://occupydemocrats.com/2020/04/28/social-media-schools-ivanka-trump-after-she-touts-military-airshow-for-first-responders/',\n",
       " 'https://occupydemocrats.com/2020/04/27/trump-shirks-responsibility-for-virus-deaths-at-monday-presser-and-blames-somebody-a-long-time-ago/',\n",
       " 'https://occupydemocrats.com/2020/04/27/trump-claims-hes-just-asking-about-denying-democratic-states-virus-budget-relief-money/']"
      ]
     },
     "execution_count": 169,
     "metadata": {},
     "output_type": "execute_result"
    }
   ],
   "source": [
    "get_urls(pages)"
   ]
  },
  {
   "cell_type": "code",
   "execution_count": null,
   "metadata": {},
   "outputs": [],
   "source": []
  }
 ],
 "metadata": {
  "kernelspec": {
   "display_name": "Python 3",
   "language": "python",
   "name": "python3"
  },
  "language_info": {
   "codemirror_mode": {
    "name": "ipython",
    "version": 3
   },
   "file_extension": ".py",
   "mimetype": "text/x-python",
   "name": "python",
   "nbconvert_exporter": "python",
   "pygments_lexer": "ipython3",
   "version": "3.7.4"
  }
 },
 "nbformat": 4,
 "nbformat_minor": 2
}
