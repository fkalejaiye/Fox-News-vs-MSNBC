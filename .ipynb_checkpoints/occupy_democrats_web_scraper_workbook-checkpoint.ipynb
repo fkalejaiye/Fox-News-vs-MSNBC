{
 "cells": [
  {
   "cell_type": "code",
   "execution_count": 2,
   "metadata": {},
   "outputs": [],
   "source": [
    "import numpy as np\n",
    "from pymongo import MongoClient\n",
    "import pandas as pd\n",
    "import requests\n",
    "from bs4 import BeautifulSoup\n",
    "import time\n"
   ]
  },
  {
   "cell_type": "code",
   "execution_count": 3,
   "metadata": {},
   "outputs": [],
   "source": [
    "pages = np.arange(1,668)"
   ]
  },
  {
   "cell_type": "code",
   "execution_count": 4,
   "metadata": {},
   "outputs": [],
   "source": [
    "client = MongoClient()\n",
    "occupy_democrats_db=client['occupy_democrats']\n",
    "urls = occupy_democrats_db['urls']\n",
    "artiles = occupy_democrats_db['articles']\n",
    "\n",
    "def get_urls(x):\n",
    "    links=[]\n",
    "    for num in x:\n",
    "        pg = requests.get(f'https://occupydemocrats.com/category/politics/page/{num}/')\n",
    "        if pg.status_code==200:\n",
    "            soup = BeautifulSoup(pg.text,\"lxml\")\n",
    "            data = soup.findAll('div', {'class':\"post-title\"})\n",
    "        else:\n",
    "            print(pg.status_code)\n",
    "            continue\n",
    "            \n",
    "        for i in data:\n",
    "            link=(i.find('a').get(\"href\"))\n",
    "            if link not in links:\n",
    "                links.append(link)          \n",
    "        print(f'Scraped {len(links)} urls.')\n",
    "        time.sleep(2)\n",
    "    for link in links:\n",
    "        urls.insert_one({'link': link})\n",
    "    print(\"Done!!\")"
   ]
  },
  {
   "cell_type": "code",
   "execution_count": 87,
   "metadata": {},
   "outputs": [],
   "source": [
    "def get_articles(urls_of_articles):\n",
    "    count=0\n",
    "    for url in urls_of_articles:\n",
    "        pg = requests.get(url)\n",
    "        if pg.status_code==200:\n",
    "            soup = BeautifulSoup(pg.text,\"lxml\")\n",
    "            title = soup.find('h1').text.strip()\n",
    "            author = soup.find('div', {\"class\": 'author-content'}).find('a').text\n",
    "            date = soup.find('div', {\"class\": 'thb-post-date'}).text.strip()\n",
    "            data = soup.findAll('div', {'class':\"post-content entry-content\"})\n",
    "            content=[]\n",
    "            for i in data:\n",
    "                for j in i.find_all('p'):\n",
    "                    t = j.get_text()\n",
    "                    content.append(t)\n",
    "                    \n",
    "            content = \" \".join(content)\n",
    "            print(content)\n",
    "            #articles.insert_one({'title':title, 'author':author, 'date': date, 'content': content})\n",
    "            count+=1\n",
    "            print(f'Scraped {count} articles. ({title})')\n",
    "            time.sleep(2)\n",
    "            \n",
    "        else:\n",
    "            continue"
   ]
  },
  {
   "cell_type": "code",
   "execution_count": 88,
   "metadata": {},
   "outputs": [],
   "source": [
    "i = [\"https://occupydemocrats.com/2020/05/06/trump-claims-he-wore-a-mask-at-mask-obligatory-mask-factory-despite-video-showing-otherwise/\"]\n",
    "\n",
    "\n"
   ]
  },
  {
   "cell_type": "code",
   "execution_count": 89,
   "metadata": {},
   "outputs": [
    {
     "name": "stdout",
     "output_type": "stream",
     "text": [
      "An Orwellian dystopia is what you get when America is governed by a president that rejects the very concepts of truth and reality and tells you to reject the very evidence provided by your senses and instead accept their “alternative facts.” Donald Trump dragged us further into that dystopia today by claiming that he did indeed wear a face mask while touring a Honeywell factory in Arizona yesterday that manufactures now precious N95 masks despite the plethora of photos and video footage showing otherwise. Reuters White House Correspondent Jeff Mason was the brave reporter willing to ask the president why he wasn’t wearing a mask in the factory despite having said in advance that he would be donning protective gear while taking the thinly-disguised campaign appearance masquerading as a factory tour. I asked ⁦@realDonaldTrump⁩ why he didn’t wear a mask at the Honeywell plant yesterday. He said he had worn one. I said we did not see him wearing one. He said he wore one backstage and the Honeywell chief said it was not necessary to wear in the plant. pic.twitter.com/4KYvq3J6yE — Jeff Mason (@jeffmason1) May 6, 2020  Add your name to reject Trump & Republicans’ vile idea of sacrificing seniors’ lives to save the stock market! If a tree falls in the woods and there is no one there to see it, how can anyone be sure that it actually happened? In all fairness to the president — which is quite obviously more than the decidedly partisan Trump deserves — he was wearing protective goggles during the tour. However, briefly donning a mask off camera and then appearing publicly without one is not exactly the sterling example of following safety guidelines provided by medical experts for social distancing during the COVID-19 pandemic that the American public needs to see right now. Instead, Trump subjected himself to accusations of tone-deaf privilege and arrogance as he blithely feigned interest in the mask manufacturing process while he and his retinue walked past signs that read “Attention Face Mask required in this Area” as this tweet from CNN‘s Jim Acosta clearly demonstrates. Trump not wearing mask but goggles at Honeywell facility. Other aides not wearing masks at all. Sign in facility says “face mask required in this area.” pic.twitter.com/Uq7Fr2ioeS — Jim Acosta (@Acosta) May 5, 2020  Trump then used the factory setting to hold the closest equivalent he could manage to one of his pre-pandemic campaign rallies, minus the usual adoring crowds of raucous deplorables. Whoever controls the music playing in the background at the factory at least managed to get in a bit of ironic mockery of the president’s current push to reopen the economy before most states have met the CDC guidelines to do so, particularly since the reopening has been egged on by Trump supporters refusing to wear the types of masks being made on the premises of the Arizona factory. The soundtrack to Trump’s factory tour? The theme song to Live and Let Die. They blasted “Live and Let Die” while Trump walked around a Honeywell plant today in Arizona without a mask. It’s hard to believe this clip is real. pic.twitter.com/M1dMe8KaMK — Aaron Rupar (@atrupar) May 5, 2020  Any realization that the background music was a perfect description of his own admission that reopening the economy — and consequently trying to boost his ever fainter chances at re-election — would result in some people “being affected badly,” as the president euphemizes the steadily increasing death toll, was apparently lost on Trump. Hopefully, it will not be lost on voters in November. Follow Vinnie Longobardo on Twitter.  We want to hear what YOU have to say. Scroll down and let us know in our NEW comment section!\n",
      "Scraped 1 articles. (Trump claims he wore a mask at mask-obligatory mask factory despite video showing otherwise)\n"
     ]
    }
   ],
   "source": [
    "get_articles(i)"
   ]
  },
  {
   "cell_type": "code",
   "execution_count": null,
   "metadata": {},
   "outputs": [],
   "source": []
  }
 ],
 "metadata": {
  "kernelspec": {
   "display_name": "Python 3",
   "language": "python",
   "name": "python3"
  },
  "language_info": {
   "codemirror_mode": {
    "name": "ipython",
    "version": 3
   },
   "file_extension": ".py",
   "mimetype": "text/x-python",
   "name": "python",
   "nbconvert_exporter": "python",
   "pygments_lexer": "ipython3",
   "version": "3.7.4"
  }
 },
 "nbformat": 4,
 "nbformat_minor": 2
}
