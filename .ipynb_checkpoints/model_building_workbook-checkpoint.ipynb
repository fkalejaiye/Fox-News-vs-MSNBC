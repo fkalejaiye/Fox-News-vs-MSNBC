{
 "cells": [
  {
   "cell_type": "code",
   "execution_count": 1,
   "metadata": {},
   "outputs": [],
   "source": [
    "from data_pipline_and_eda_helper_class import *\n",
    "from model_class import *\n",
    "data_pipeline = DataPipeline()"
   ]
  },
  {
   "cell_type": "code",
   "execution_count": 2,
   "metadata": {},
   "outputs": [],
   "source": [
    "data_pipeline.combine_news_sources('occupy_democrats','breitbart')"
   ]
  },
  {
   "cell_type": "code",
   "execution_count": 3,
   "metadata": {},
   "outputs": [],
   "source": [
    "model_builder = ModelBuilder(data_pipeline.articles_info)"
   ]
  },
  {
   "cell_type": "code",
   "execution_count": 4,
   "metadata": {},
   "outputs": [],
   "source": [
    "model_builder.vectorize(500)"
   ]
  },
  {
   "cell_type": "code",
   "execution_count": 5,
   "metadata": {},
   "outputs": [
    {
     "data": {
      "text/plain": [
       "0.9085227272727273"
      ]
     },
     "execution_count": 5,
     "metadata": {},
     "output_type": "execute_result"
    }
   ],
   "source": [
    "model_builder.fit_and_score(MultinomialNB(0.1))"
   ]
  },
  {
   "cell_type": "code",
   "execution_count": 6,
   "metadata": {},
   "outputs": [
    {
     "data": {
      "text/plain": [
       "0.9636363636363636"
      ]
     },
     "execution_count": 6,
     "metadata": {},
     "output_type": "execute_result"
    }
   ],
   "source": [
    "model_builder.fit_and_score(RandomForestClassifier(n_estimators=60))"
   ]
  },
  {
   "cell_type": "code",
   "execution_count": 7,
   "metadata": {},
   "outputs": [],
   "source": [
    "reuters = data_pipeline.pipeline('reuters')\n",
    "fox_news = data_pipeline.pipeline('fox')"
   ]
  },
  {
   "cell_type": "code",
   "execution_count": 8,
   "metadata": {},
   "outputs": [
    {
     "data": {
      "text/plain": [
       "'Predicted as Breitbart 96.77% of the time.'"
      ]
     },
     "execution_count": 8,
     "metadata": {},
     "output_type": "execute_result"
    }
   ],
   "source": [
    "model_builder.test_bias(fox_news['content'])"
   ]
  },
  {
   "cell_type": "code",
   "execution_count": 9,
   "metadata": {},
   "outputs": [
    {
     "data": {
      "text/plain": [
       "'Predicted as Breitbart 54.84% of the time.'"
      ]
     },
     "execution_count": 9,
     "metadata": {},
     "output_type": "execute_result"
    }
   ],
   "source": [
    "model_builder.test_bias(reuters['content'])"
   ]
  },
  {
   "cell_type": "code",
   "execution_count": 10,
   "metadata": {},
   "outputs": [
    {
     "data": {
      "text/plain": [
       "['tuesday',\n",
       " 'covid',\n",
       " 'accused',\n",
       " 'sexual',\n",
       " 'outbreak',\n",
       " 'reporting',\n",
       " '2018',\n",
       " 'laws',\n",
       " 'presidential',\n",
       " '25',\n",
       " 'united',\n",
       " 'across',\n",
       " 'serious',\n",
       " 'toward',\n",
       " 'unemployment',\n",
       " 'could',\n",
       " 'face',\n",
       " 'voted',\n",
       " 'white',\n",
       " 'conducted']"
      ]
     },
     "execution_count": 10,
     "metadata": {},
     "output_type": "execute_result"
    }
   ],
   "source": [
    "model_builder.get_most_important_words(20)"
   ]
  },
  {
   "cell_type": "code",
   "execution_count": 11,
   "metadata": {},
   "outputs": [
    {
     "data": {
      "text/plain": [
       "'True Negatives: 1125, True Positives 571, False Negatives 53, False Positives 11.'"
      ]
     },
     "execution_count": 11,
     "metadata": {},
     "output_type": "execute_result"
    }
   ],
   "source": [
    "model_builder.get_confusion_matrix()"
   ]
  },
  {
   "cell_type": "code",
   "execution_count": 12,
   "metadata": {},
   "outputs": [],
   "source": [
    "yhat = model_builder.model.predict(model_builder.X_test)"
   ]
  },
  {
   "cell_type": "code",
   "execution_count": 13,
   "metadata": {},
   "outputs": [],
   "source": [
    "indices = np.where(yhat!=model_builder.y_test.values)"
   ]
  },
  {
   "cell_type": "code",
   "execution_count": 14,
   "metadata": {},
   "outputs": [
    {
     "data": {
      "text/plain": [
       "(array([   4,   45,  103,  146,  152,  177,  195,  210,  235,  277,  293,\n",
       "         344,  367,  446,  470,  493,  505,  564,  587,  632,  647,  652,\n",
       "         683,  731,  782,  805,  808,  863,  882,  902,  905,  914,  923,\n",
       "         940,  947,  967,  973, 1037, 1040, 1042, 1069, 1072, 1074, 1126,\n",
       "        1127, 1201, 1204, 1205, 1266, 1297, 1303, 1324, 1427, 1497, 1515,\n",
       "        1546, 1551, 1572, 1578, 1635, 1667, 1692, 1702, 1715]),)"
      ]
     },
     "execution_count": 14,
     "metadata": {},
     "output_type": "execute_result"
    }
   ],
   "source": [
    "indices"
   ]
  },
  {
   "cell_type": "code",
   "execution_count": 15,
   "metadata": {},
   "outputs": [
    {
     "data": {
      "text/plain": [
       "3415           breitbart\n",
       "3490           breitbart\n",
       "2765    occupy_democrats\n",
       "254     occupy_democrats\n",
       "4614           breitbart\n",
       "1203    occupy_democrats\n",
       "4882           breitbart\n",
       "3104    occupy_democrats\n",
       "235     occupy_democrats\n",
       "258     occupy_democrats\n",
       "1871    occupy_democrats\n",
       "112     occupy_democrats\n",
       "2272    occupy_democrats\n",
       "2758    occupy_democrats\n",
       "178     occupy_democrats\n",
       "200     occupy_democrats\n",
       "8255           breitbart\n",
       "113     occupy_democrats\n",
       "3086    occupy_democrats\n",
       "136     occupy_democrats\n",
       "Name: source, dtype: object"
      ]
     },
     "execution_count": 15,
     "metadata": {},
     "output_type": "execute_result"
    }
   ],
   "source": [
    "model_builder.y_test.iloc[indices[0][10:30]]"
   ]
  },
  {
   "cell_type": "code",
   "execution_count": 16,
   "metadata": {},
   "outputs": [
    {
     "data": {
      "text/plain": [
       "title      Joe Biden Again Says ‘Intercourse’ When Discus...\n",
       "author                                         Joshua Caplan\n",
       "date                                              1 May 2020\n",
       "content    Former Vice President Joe Biden, the presumpti...\n",
       "source                                             breitbart\n",
       "Name: 4125, dtype: object"
      ]
     },
     "execution_count": 16,
     "metadata": {},
     "output_type": "execute_result"
    }
   ],
   "source": [
    "model_builder.articles_info.loc[4125]"
   ]
  },
  {
   "cell_type": "code",
   "execution_count": 22,
   "metadata": {},
   "outputs": [
    {
     "data": {
      "text/plain": [
       "'Stop me if you’ve heard this one before: the President of the United States, embroiled in a massive scandal of his own making, suddenly lashes out at the mayor of some city or other, diving into the kind of petty feud you’d expect from a high school freshman rather than the most powerful man in the world. President Trump picked a fight with San Juan Mayor Carmen Yulín Cruz after her island of Puerto Rico was ravaged by hurricanes, attacked London Mayor Sadiq Khan in the wake of British terror attacks, and disrespected Dayton Mayor Nan Whaley (D) after a mass shooting rocked her city. This president loves punching down even though the less powerful politicians he targets almost inevitably outwit and embarrass him by the end of the back and forth. Now, he’s done it again. This morning, Trump unleashing a flurry of tweets attacking Minneapolis Mayor Jacob Frey (D) on Twitter, accusing Frey of overcharging the Trump campaign for a rally it has planned in downtown Minneapolis by asking for $530,000 for security and hosting costs. What our conman-in-chief conveniently failed to mention during his whiny little tirade is that his campaign has a history of sticking cities with the bills for his rallies, an extension of his longtime practice of refusing to pay contractors for their services after work is complete. As recently as this past August, the Trump campaign still owed the city of El Paso, Texas over $500,000 in unpaid debt for a rally held in the city. In other words, Mayor Frey is completely correct to worry about his city being left holding the bag and is wise to ask for the $530,000. President Trump, of course, is enraged that anyone would dare stand up to his swindling ways. Trump started by retweeting complaints from his odious campaign manager Brad Parscale and right-wing hack Todd Starnes. Add your name to tell Congress to investigate Pence for his role in Trump’s Ukraine corruption. The VP is complicit! This is an outrageous abuse of power by a liberal mayor trying to deny the rights of his own city’s residents just because he hates the President! Press Release: https://t.co/7eBwgqQuIp pic.twitter.com/4jGWATdDD7 — Brad Parscale (@parscale) October 8, 2019  EXTORTION! Minneapolis Mayor Tries to Shut Down Trump\\'s \"Keep America Great\" Rally https://t.co/oHprL8dmvR via @toddstarnes — toddstarnes (@toddstarnes) October 8, 2019  Soon after, the president started penning his own tweets about Mayor Frey, calling him “lightweight” and accusing him of hurting Minneapolis police and “other wonderful supporters.” The bit about police comes directly from Fox News. The conservative network is infuriated by the passing of a recent policy that bans off-duty police officers from wearing their uniforms to political events. The restriction makes sense if one considers it for even half a second: the citizens of Minneapolis should feel that the police are there to serve and protect everyone, without bias, regardless of political affiliation. Officers shouldn’t be associating the police department and by extension the entire city with a single political movement by wearing their official uniforms to rallies. Trump called on residents of Minneapolis to “dump” the mayor and also got in a completely uncalled for salvo at his enemy Rep. Ilhan Omar (D), whose district contains the city. The lightweight mayor is hurting the great police and other wonderful supporters. 72,000 ticket requests already. Dump Frey and Omar! Make America Great Again! https://t.co/ibTqvSbsbn — Donald J. Trump (@realDonaldTrump) October 8, 2019  Mayor Frey quickly hit back, voicing his boredom with the president’s attack and informing him that in Minneapolis people pay their bills, govern with integrity, and love their neighbors, the obvious implication being that Donald Trump does none of the above. Yawn… Welcome to Minneapolis where we pay our bills, we govern with integrity, and we love all of our neighbors. https://t.co/v1cXvoD9uR — Jacob Frey (@Jacob_Frey) October 8, 2019  Trump didn’t immediately respond to Frey and instead went on to thank Lt. Bob Kroll, a police officer who went on\\xa0Fox News\\xa0to whine about the uniform ban and to pitch an incredibly ugly “Cops for Trump” t-shirt which some Minneapolis MAGA cops plan to wear to the Trump rally to circumvent the uniform restriction.\\xa0 Trump said Kroll and the other officers are “fighting the Radical Left Mayor, and his ridiculous uniform ban.” The president added that he loves the shirts and wants to “bring some home.”   Trump then called Frey a “Radical Left Mayor” again. By now, it should be clear that “radical left” to Donald Trump simply means anything left of outright cryptofascism.\\xa0 He absurdly accused the mayor of trying to “price out Free Speech” and said his actions are “probably illegal.” The allegation is flatly laughable. Mayor Frey asking the Trump campaign to pay for its incredibly expensive visit and rally has nothing to do with “free speech.” It has to do with a city refusing to be fleeced and pumped for money by a crook of a president who has a long history of doing just that. “Free speech” doesn’t require Minneapolis and its citizens—the majority of whom voted for Hillary Clinton—to subsidize the reelection campaign of the worst president in American history. Trump ended the tweet by giving some more lip service to law enforcement, which by now is clearly nothing more than a cynical farce, as demonstrated by his repeated disregard for the rule of law. Someone please tell the Radical Left Mayor of Minneapolis that he can’t price out Free Speech. Probably illegal! I stand strongly & proudly with the great Police Officers and Law Enforcement of Minneapolis and the Great State of Minnesota! See you Thursday Night! — Donald J. Trump (@realDonaldTrump) October 8, 2019  Mayor Frey shot back again and pointed out that if Trump really cared about Minneapolis police he’d be willing to pay for the extra hours the officers will have to work during the presidential visit. For now, Frey has had the last word but judging by Trump’s past obsessive feuds, this isn’t quite over yet… Someone tell the President of the United States that he can afford to help pay for the extra time our officers will be putting in while he’s in town. https://t.co/bXITaPdW4E — Jacob Frey (@Jacob_Frey) October 8, 2019 '"
      ]
     },
     "execution_count": 22,
     "metadata": {},
     "output_type": "execute_result"
    }
   ],
   "source": [
    "model_builder.articles.loc[1048]"
   ]
  },
  {
   "cell_type": "code",
   "execution_count": null,
   "metadata": {},
   "outputs": [],
   "source": []
  }
 ],
 "metadata": {
  "kernelspec": {
   "display_name": "Python 3",
   "language": "python",
   "name": "python3"
  },
  "language_info": {
   "codemirror_mode": {
    "name": "ipython",
    "version": 3
   },
   "file_extension": ".py",
   "mimetype": "text/x-python",
   "name": "python",
   "nbconvert_exporter": "python",
   "pygments_lexer": "ipython3",
   "version": "3.7.4"
  }
 },
 "nbformat": 4,
 "nbformat_minor": 2
}
