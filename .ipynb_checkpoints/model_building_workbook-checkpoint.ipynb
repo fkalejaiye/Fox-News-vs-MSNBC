{
 "cells": [
  {
   "cell_type": "code",
   "execution_count": 1,
   "metadata": {},
   "outputs": [],
   "source": [
    "from data_pipline_and_eda_helper_class import *\n",
    "from model_class import *\n",
    "data_pipeline = DataPipeline()\n",
    "import seaborn as sns"
   ]
  },
  {
   "cell_type": "code",
   "execution_count": 2,
   "metadata": {},
   "outputs": [],
   "source": [
    "data_pipeline.combine_news_sources('occupy_democrats','breitbart')"
   ]
  },
  {
   "cell_type": "code",
   "execution_count": 3,
   "metadata": {},
   "outputs": [],
   "source": [
    "model_builder = ModelBuilder(data_pipeline.articles_info)"
   ]
  },
  {
   "cell_type": "code",
   "execution_count": 4,
   "metadata": {},
   "outputs": [],
   "source": [
    "model_builder.vectorize(5000,(1,2))"
   ]
  },
  {
   "cell_type": "code",
   "execution_count": 5,
   "metadata": {},
   "outputs": [
    {
     "data": {
      "text/plain": [
       "0.9234174413457282"
      ]
     },
     "execution_count": 5,
     "metadata": {},
     "output_type": "execute_result"
    }
   ],
   "source": [
    "model_builder.fit_and_score(MultinomialNB(0.1))"
   ]
  },
  {
   "cell_type": "code",
   "execution_count": 6,
   "metadata": {},
   "outputs": [
    {
     "data": {
      "text/plain": [
       "0.9575033200531209"
      ]
     },
     "execution_count": 6,
     "metadata": {},
     "output_type": "execute_result"
    }
   ],
   "source": [
    "model_builder.fit_and_score(RandomForestClassifier(n_estimators=60))"
   ]
  },
  {
   "cell_type": "code",
   "execution_count": 7,
   "metadata": {},
   "outputs": [
    {
     "data": {
      "text/plain": [
       "['trump jr',\n",
       " 'save',\n",
       " 'retain',\n",
       " '2015',\n",
       " 'privat server',\n",
       " 'administr',\n",
       " 'day',\n",
       " 'admit',\n",
       " 'earlier week',\n",
       " 'admiss']"
      ]
     },
     "execution_count": 7,
     "metadata": {},
     "output_type": "execute_result"
    }
   ],
   "source": [
    "model_builder.get_most_important_words(10)"
   ]
  },
  {
   "cell_type": "code",
   "execution_count": 8,
   "metadata": {},
   "outputs": [
    {
     "data": {
      "text/plain": [
       "'True Negatives: 1056, True Positives 1107, False Negatives 46, False Positives 50.'"
      ]
     },
     "execution_count": 8,
     "metadata": {},
     "output_type": "execute_result"
    }
   ],
   "source": [
    "model_builder.get_confusion_matrix()"
   ]
  },
  {
   "cell_type": "code",
   "execution_count": 9,
   "metadata": {},
   "outputs": [
    {
     "name": "stdout",
     "output_type": "stream",
     "text": [
      "Precision: 0.9567847882454624 \n",
      "Recal: 0.9601040763226366 \n",
      "Accuracy: 0.9575033200531209\n"
     ]
    },
    {
     "data": {
      "image/png": "[encoded data removed]",
      "text/plain": [
       "<Figure size 1152x576 with 2 Axes>"
      ]
     },
     "metadata": {
      "needs_background": "light"
     },
     "output_type": "display_data"
    }
   ],
   "source": [
    "model_builder.plot_confusion_matrix()"
   ]
  },
  {
   "cell_type": "code",
   "execution_count": 10,
   "metadata": {},
   "outputs": [
    {
     "name": "stdout",
     "output_type": "stream",
     "text": [
      "Topic 1:\n",
      "-------> guidelin polit campaign translat grassley lead transfer septemb 12 want make louisiana script\n",
      "Topic 2:\n",
      "-------> senat republican bribe briberi disastr r wi director nation sight wi chelsea vs\n",
      "Topic 3:\n",
      "-------> vote republican marijuana blast establish vote trump voter marin act mark subsidi\n",
      "Topic 4:\n",
      "-------> come back comedian coordin impeach wrongdo copi women right tx comey photograph bradi\n",
      "Topic 5:\n",
      "-------> plot stick noth noth democrat incap incred stir chao plu disastr\n",
      "Topic 6:\n",
      "-------> report american public slaughter bear thu thu far slave wiretap admir 1980\n",
      "Topic 7:\n",
      "-------> vision without holder fulfil intellig committe anyth 1990 hole kind heart\n",
      "Topic 8:\n",
      "-------> furthermor video vietnam garland disastr public servic push back chelsea chanc child\n",
      "Topic 9:\n",
      "-------> demand presid oklahoma yemen demand reassembl often arizona arm hawaii subsidi harsh\n",
      "Topic 10:\n",
      "-------> riot preserv subsidi hawaii chairman wing past dear analyst pay tax\n",
      "Topic 11:\n",
      "-------> freedom five year jone overtim mother jone loss label contradict bob nsc\n",
      "Topic 12:\n",
      "-------> regim shred shutdown crusad md delus theori arrang jump dedic\n",
      "Topic 13:\n",
      "-------> aclu presid would phoenix wiretap presid volodymyr rape lost ran misogynist random\n",
      "Topic 14:\n",
      "-------> trump seem public servic purpos elderli elect campaign pull turn trump aid anyth intens\n",
      "Topic 15:\n",
      "-------> possess privat territori voter attorney potenti repeal obamacar primarili men gen\n",
      "Topic 16:\n",
      "-------> trump one bless trump order tx facil joy russian ambassador come back stretch campu\n",
      "Topic 17:\n",
      "-------> hit former vice hitler hoax sweep senat berni birth dad shift bipartisan\n",
      "Topic 18:\n",
      "-------> tough assad lee subsidi green bia obvious lawmak grassley theori\n",
      "Topic 19:\n",
      "-------> first time elizabeth fisa warrant ask question ask elizabeth warren email isi irrespons japanes\n",
      "Topic 20:\n",
      "-------> go take built nerv tie russia music flip hatch act rex tillerson player hous intellig\n",
      "Topic 21:\n",
      "-------> decid ten temporari label kurd lifetim civilian scenario balanc berni sander\n",
      "Topic 22:\n",
      "-------> w bush holder vulner peddl women right wonder today go take thing like guardian\n",
      "Topic 23:\n",
      "-------> whistl whim incap carlson quarter question incom tax rock public servic quick\n",
      "Topic 24:\n",
      "-------> campu mr presid help trump turk turkey help explicit here' fact facil\n",
      "Topic 25:\n",
      "-------> juri offend june name million gonna perspect togeth rachel maddow toilet bibl\n",
      "Topic 26:\n",
      "-------> name million klan rachel maddow rachel can't next week canada hatch act mainstream carter page\n",
      "Topic 27:\n",
      "-------> chairman spin spill made properli read transcript everyday play perform champion\n",
      "Topic 28:\n",
      "-------> pace pack david frum american live american histori rival river day oversight committe day ago\n",
      "Topic 29:\n",
      "-------> despic 1 need civilian outsourc ironi doubl repeal obamacar depict justic\n",
      "Topic 30:\n",
      "-------> intellig committe insult american peopl insur inner circl dissent review campu mr presid dodg\n",
      "Topic 31:\n",
      "-------> trump univers trump seem script public servic world elderli elect campaign pull secur advis seen\n",
      "Topic 32:\n",
      "-------> nune r social deleg semit negoti contrast defect say presid usual christi\n",
      "Topic 33:\n",
      "-------> seven takei georgetakei erdogan come phillip unit state time presid consid impeach trial litig\n",
      "Topic 34:\n",
      "-------> whistleblow reassembl pay tax mount suprem court suprem impeach donald hawaii impeach hear subsidi\n",
      "Topic 35:\n",
      "-------> face care ultim ocasio cortez fact trump howev trump man trump may desper need practic\n",
      "Topic 36:\n",
      "-------> watch evas even relentless tech sign side mi child employ\n",
      "Topic 37:\n",
      "-------> empow inherit commentari trump press vagu plain trump polit flame tale usa today\n",
      "Topic 38:\n",
      "-------> genuin georg takei older oliv col castro cast reilli translat horrifi\n",
      "Topic 39:\n",
      "-------> prime minist bannon year later paranoid terrorist attack year ago rage palestinian solut review\n",
      "Topic 40:\n",
      "-------> mexico websit week femal fewer easili sponsor realiti tv declin feud\n",
      "Topic 41:\n",
      "-------> common sens cleans richard burr commit work trump final six month enter get rid\n",
      "Topic 42:\n",
      "-------> compass oklahoma yemen often deserv buzzfe yesterday descript militari aid budget\n",
      "Topic 43:\n",
      "-------> teenag ventil rather televis obsess mcconnel admit co founder misogynist rate experi\n",
      "Topic 44:\n",
      "-------> point vietnam video much less public servic ms punch point trump anyth ticket\n",
      "Topic 45:\n",
      "-------> dear boost impeach presid mad maddow armi chariti one day googl compass\n",
      "Topic 46:\n",
      "-------> signific million peopl bu reilli mask perpetr silent nato nativ american lindsey\n",
      "Topic 47:\n",
      "-------> imposs plain oversea oversight church boss impeach donald misogynist fiction impress\n",
      "Topic 48:\n",
      "-------> sexist common committe investig larg hardli label ten temporari silver narcissist\n",
      "Topic 49:\n",
      "-------> jeff session convers chain settl jennif jefferson hidden suspend jone signific\n",
      "Topic 50:\n",
      "-------> hard work corey time trump press mislead user promin vile idea usa today island\n"
     ]
    },
    {
     "data": {
      "text/plain": [
       "['Topic 1',\n",
       " 'Topic 2',\n",
       " 'Topic 3',\n",
       " 'Topic 4',\n",
       " 'Topic 5',\n",
       " 'Topic 6',\n",
       " 'Topic 7',\n",
       " 'Topic 8',\n",
       " 'Topic 9',\n",
       " 'Topic 10',\n",
       " 'Topic 11',\n",
       " 'Topic 12',\n",
       " 'Topic 13',\n",
       " 'Topic 14',\n",
       " 'Topic 15',\n",
       " 'Topic 16',\n",
       " 'Topic 17',\n",
       " 'Topic 18',\n",
       " 'Topic 19',\n",
       " 'Topic 20',\n",
       " 'Topic 21',\n",
       " 'Topic 22',\n",
       " 'Topic 23',\n",
       " 'Topic 24',\n",
       " 'Topic 25',\n",
       " 'Topic 26',\n",
       " 'Topic 27',\n",
       " 'Topic 28',\n",
       " 'Topic 29',\n",
       " 'Topic 30',\n",
       " 'Topic 31',\n",
       " 'Topic 32',\n",
       " 'Topic 33',\n",
       " 'Topic 34',\n",
       " 'Topic 35',\n",
       " 'Topic 36',\n",
       " 'Topic 37',\n",
       " 'Topic 38',\n",
       " 'Topic 39',\n",
       " 'Topic 40',\n",
       " 'Topic 41',\n",
       " 'Topic 42',\n",
       " 'Topic 43',\n",
       " 'Topic 44',\n",
       " 'Topic 45',\n",
       " 'Topic 46',\n",
       " 'Topic 47',\n",
       " 'Topic 48',\n",
       " 'Topic 49',\n",
       " 'Topic 50']"
      ]
     },
     "execution_count": 10,
     "metadata": {},
     "output_type": "execute_result"
    }
   ],
   "source": [
    "model_builder.fit_nmf_and_return_topics('breitbart',num_topics=10)"
   ]
  },
  {
   "cell_type": "code",
   "execution_count": 11,
   "metadata": {},
   "outputs": [
    {
     "name": "stdout",
     "output_type": "stream",
     "text": [
      "Topic 1:\n",
      "-------> trump donald donald trump presid campaign support mr trump mr said trump campaign\n",
      "Topic 2:\n",
      "-------> russian russia putin intellig manafort elect campaign vladimir vladimir putin hack\n",
      "Topic 3:\n",
      "-------> impeach pelosi trial speaker mcconnel hous nanci wit nanci pelosi januari\n",
      "Topic 4:\n",
      "-------> nune committe intellig intellig committe rep investig schiff hous intellig hous devin\n",
      "Topic 5:\n",
      "-------> clinton hillari hillari clinton nomine democrat nomine nomine hillari debat email campaign secretari\n",
      "Topic 6:\n",
      "-------> nazi white white supremacist supremacist neo neo nazi racist charlottesvil hate anti\n",
      "Topic 7:\n",
      "-------> 2017 com pic com pic http http com statu april februari march\n",
      "Topic 8:\n",
      "-------> women sexual assault sexual assault woman rape men predat accus grab\n",
      "Topic 9:\n",
      "-------> comey fbi director fbi director investig jame comey jame fire director jame fire fbi\n",
      "Topic 10:\n",
      "-------> 2019 octob http jr decemb novemb http co co trump jr septemb\n",
      "Topic 11:\n",
      "-------> state unit unit state world presid nato nation foreign presid unit tillerson\n",
      "Topic 12:\n",
      "-------> fox news fox news reilli ail network harass sexual harass bill reilli host\n",
      "Topic 13:\n",
      "-------> ukrain impeach presid investig corrupt trump whistleblow inquiri transcript impeach inquiri\n",
      "Topic 14:\n",
      "-------> court judg suprem court suprem rule gorsuch law justic case constitut\n",
      "Topic 15:\n",
      "-------> obama presid obama presid barack barack obama presid barack obama administr wiretap former presid offic\n",
      "Topic 16:\n",
      "-------> climat climat chang chang epa environment pruitt scienc energi fossil fuel fossil\n",
      "Topic 17:\n",
      "-------> senat mcconnel r mccain graham republican vote mitch mitch mcconnel sen\n",
      "Topic 18:\n",
      "-------> white hous white hous administr offici trump presid press staff trump white\n",
      "Topic 19:\n",
      "-------> flynn nation secur secur nation michael flynn secur advisor michael advisor yate foreign\n",
      "Topic 20:\n",
      "-------> ivanka ivanka trump father daughter women first daughter daughter ivanka famili brand trump\n",
      "Topic 21:\n",
      "-------> spicer press sean sean spicer press secretari secretari mccarthi secretari sean hous press brief\n",
      "Topic 22:\n",
      "-------> bill obamacar insur care healthcar trumpcar repeal republican ryan american\n",
      "Topic 23:\n",
      "-------> polic polic offic offic gun black protest shoot polic depart violenc citi\n",
      "Topic 24:\n",
      "-------> conway kellyann kellyann conway georg conway georg gtconway3d conway gtconway3d fact altern fact counselor\n",
      "Topic 25:\n",
      "-------> tax tax return return releas releas tax audit incom pay trump tax incom tax\n",
      "Topic 26:\n",
      "-------> test crisi respons 19 march market governor medic stock april\n",
      "Topic 27:\n",
      "-------> syria isi syrian turkey al militari turkish kurdish kurd war\n",
      "Topic 28:\n",
      "-------> wall mexico border mexican border wall build build wall pay immigr construct\n",
      "Topic 29:\n",
      "-------> student school educ devo children univers betsi program betsi devo teacher\n",
      "Topic 30:\n",
      "-------> ban muslim travel travel ban order execut order attack muslim ban execut terrorist\n",
      "Topic 31:\n",
      "-------> compani busi money donat worker million foundat job hotel 000\n",
      "Topic 32:\n",
      "-------> korea north north korea nuclear korean china kim north korean south missil\n",
      "Topic 33:\n",
      "-------> hurrican harvey texa hurrican harvey storm irma disast houston victim relief\n",
      "Topic 34:\n",
      "-------> kushner jare jare kushner son law son clearanc trump son secur clearanc law kushner secur\n",
      "Topic 35:\n",
      "-------> giuliani parna rudi york new york new rudi giuliani mayor lawyer lev\n",
      "Topic 36:\n",
      "-------> session attorney attorney gener jeff session jeff gener gener jeff alabama franken recus\n",
      "Topic 37:\n",
      "-------> million demand name million demand congress crime impeach congress take action presid presid crime impeach donald take action june\n",
      "Topic 38:\n",
      "-------> penc mike penc mike vice vice presid indiana religi presid mike gay presid\n",
      "Topic 39:\n",
      "-------> republican parti democrat republican parti gop candid polit nomine elect repres\n",
      "Topic 40:\n",
      "-------> vote voter elect elector poll elector colleg colleg popular vote state popular\n",
      "Topic 41:\n",
      "-------> warren elizabeth warren elizabeth senwarren warren senwarren senat elizabeth 2016 senat street bank\n",
      "Topic 42:\n",
      "-------> barr depart stone justic justic depart prosecutor sentenc attorney william barr william\n",
      "Topic 43:\n",
      "-------> golf lago mar mar lago club golf cours golf club trump cours resort\n",
      "Topic 44:\n",
      "-------> sander berni berni sander democrat senat berni senat vt democrat parti huckabe parti\n",
      "Topic 45:\n",
      "-------> immigr daca deport dreamer program arriv 800 000 children end 800\n",
      "Topic 46:\n",
      "-------> donald j j trump trump realdonaldtrump j realdonaldtrump trump tweet donald fake fake news\n",
      "Topic 47:\n",
      "-------> bannon steve bannon steve strategist chief strategist chief interview appoint nationalist cathol\n",
      "Topic 48:\n",
      "-------> melania ladi first ladi michel melania trump michel obama speech first husband wife\n",
      "Topic 49:\n",
      "-------> veteran militari servic men women command war serv men mccain sacrific\n",
      "Topic 50:\n",
      "-------> peopl like think go say know one media get thing\n"
     ]
    },
    {
     "data": {
      "text/plain": [
       "['Topic 1',\n",
       " 'Topic 2',\n",
       " 'Topic 3',\n",
       " 'Topic 4',\n",
       " 'Topic 5',\n",
       " 'Topic 6',\n",
       " 'Topic 7',\n",
       " 'Topic 8',\n",
       " 'Topic 9',\n",
       " 'Topic 10',\n",
       " 'Topic 11',\n",
       " 'Topic 12',\n",
       " 'Topic 13',\n",
       " 'Topic 14',\n",
       " 'Topic 15',\n",
       " 'Topic 16',\n",
       " 'Topic 17',\n",
       " 'Topic 18',\n",
       " 'Topic 19',\n",
       " 'Topic 20',\n",
       " 'Topic 21',\n",
       " 'Topic 22',\n",
       " 'Topic 23',\n",
       " 'Topic 24',\n",
       " 'Topic 25',\n",
       " 'Topic 26',\n",
       " 'Topic 27',\n",
       " 'Topic 28',\n",
       " 'Topic 29',\n",
       " 'Topic 30',\n",
       " 'Topic 31',\n",
       " 'Topic 32',\n",
       " 'Topic 33',\n",
       " 'Topic 34',\n",
       " 'Topic 35',\n",
       " 'Topic 36',\n",
       " 'Topic 37',\n",
       " 'Topic 38',\n",
       " 'Topic 39',\n",
       " 'Topic 40',\n",
       " 'Topic 41',\n",
       " 'Topic 42',\n",
       " 'Topic 43',\n",
       " 'Topic 44',\n",
       " 'Topic 45',\n",
       " 'Topic 46',\n",
       " 'Topic 47',\n",
       " 'Topic 48',\n",
       " 'Topic 49',\n",
       " 'Topic 50']"
      ]
     },
     "execution_count": 11,
     "metadata": {},
     "output_type": "execute_result"
    }
   ],
   "source": [
    "model_builder.fit_nmf_and_return_topics('occupy_democrats',num_topics=10)"
   ]
  },
  {
   "cell_type": "code",
   "execution_count": 12,
   "metadata": {},
   "outputs": [
    {
     "name": "stdout",
     "output_type": "stream",
     "text": [
      "President Donald Trump : Breitbart has this word 1627 times. Occupy Democrats has this word 358 times.\n",
      "trump : Breitbart has this word 2794 times. Occupy Democrats has this word 5159 times.\n"
     ]
    }
   ],
   "source": [
    "print('President Donald Trump :',model_builder.find_word_freq_by_class('President Donald Trump'))\n",
    "print('trump :',model_builder.find_word_freq_by_class('trump'))"
   ]
  },
  {
   "cell_type": "code",
   "execution_count": null,
   "metadata": {},
   "outputs": [],
   "source": []
  }
 ],
 "metadata": {
  "kernelspec": {
   "display_name": "Python 3",
   "language": "python",
   "name": "python3"
  },
  "language_info": {
   "codemirror_mode": {
    "name": "ipython",
    "version": 3
   },
   "file_extension": ".py",
   "mimetype": "text/x-python",
   "name": "python",
   "nbconvert_exporter": "python",
   "pygments_lexer": "ipython3",
   "version": "3.7.4"
  }
 },
 "nbformat": 4,
 "nbformat_minor": 2
}
