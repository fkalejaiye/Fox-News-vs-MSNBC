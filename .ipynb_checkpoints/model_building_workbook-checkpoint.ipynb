{
 "cells": [
  {
   "cell_type": "code",
   "execution_count": 1,
   "metadata": {},
   "outputs": [],
   "source": [
    "from data_pipline_and_eda_helper_class import *\n",
    "from model_class import *\n",
    "data_pipeline = DataPipeline()\n",
    "import seaborn as sns"
   ]
  },
  {
   "cell_type": "code",
   "execution_count": 2,
   "metadata": {},
   "outputs": [],
   "source": [
    "data_pipeline.combine_news_sources('occupy_democrats','breitbart')"
   ]
  },
  {
   "cell_type": "code",
   "execution_count": 3,
   "metadata": {},
   "outputs": [],
   "source": [
    "model_builder = ModelBuilder(data_pipeline.articles_info)"
   ]
  },
  {
   "cell_type": "code",
   "execution_count": 4,
   "metadata": {},
   "outputs": [],
   "source": [
    "model_builder.vectorize(5000,(1,2))"
   ]
  },
  {
   "cell_type": "code",
   "execution_count": 5,
   "metadata": {},
   "outputs": [
    {
     "data": {
      "text/plain": [
       "0.9291722000885347"
      ]
     },
     "execution_count": 5,
     "metadata": {},
     "output_type": "execute_result"
    }
   ],
   "source": [
    "model_builder.fit_and_score(MultinomialNB(0.1))"
   ]
  },
  {
   "cell_type": "code",
   "execution_count": 6,
   "metadata": {},
   "outputs": [
    {
     "data": {
      "text/plain": [
       "0.9583886675520141"
      ]
     },
     "execution_count": 6,
     "metadata": {},
     "output_type": "execute_result"
    }
   ],
   "source": [
    "model_builder.fit_and_score(RandomForestClassifier(n_estimators=60))"
   ]
  },
  {
   "cell_type": "code",
   "execution_count": 49,
   "metadata": {},
   "outputs": [
    {
     "data": {
      "text/plain": [
       "['trump jr',\n",
       " 'save',\n",
       " 'privat server',\n",
       " 'administr',\n",
       " 'retain',\n",
       " 'admit',\n",
       " '2015',\n",
       " 'prioriti',\n",
       " 'nake',\n",
       " 'earlier week',\n",
       " 'week presid',\n",
       " 'toxic',\n",
       " 'aspect',\n",
       " 'admiss',\n",
       " 'gather',\n",
       " 'clinton campaign',\n",
       " 'earn',\n",
       " 'never happen',\n",
       " 'clinton hillaryclinton',\n",
       " 'time report',\n",
       " 'salli yate',\n",
       " 'sex',\n",
       " 'pro quo',\n",
       " '17 2017',\n",
       " 'stein',\n",
       " 'downplay',\n",
       " 'plausibl',\n",
       " 'whine',\n",
       " 'matthew',\n",
       " 'waterg',\n",
       " 'french',\n",
       " 'indic trump',\n",
       " 'caucu',\n",
       " 'day',\n",
       " 'gtconway3d',\n",
       " 'market',\n",
       " 'realli',\n",
       " 'hurt',\n",
       " 'intellig agenc',\n",
       " 'http www',\n",
       " 'lobbi',\n",
       " 'systemat',\n",
       " 'amus',\n",
       " 'lt',\n",
       " 'ongo',\n",
       " 'comfort',\n",
       " 'transit team',\n",
       " 'endors',\n",
       " 'imagin',\n",
       " 'victori',\n",
       " 'ever sinc',\n",
       " 'j trump',\n",
       " 'rapist',\n",
       " 'american',\n",
       " 'pop',\n",
       " 'poorli',\n",
       " 'stori',\n",
       " 'sexual',\n",
       " 'conceiv',\n",
       " 'reveal',\n",
       " 'cruelti',\n",
       " 'graham',\n",
       " 'sourc',\n",
       " 'hous intellig',\n",
       " 'threat',\n",
       " 'new inform',\n",
       " 'jim',\n",
       " 'seek',\n",
       " 'militari',\n",
       " 'rude',\n",
       " 'fbi',\n",
       " 'victim',\n",
       " 'econom',\n",
       " 'trump need',\n",
       " 'tri get',\n",
       " 'trump trump',\n",
       " 'blunt',\n",
       " 'earlier year',\n",
       " 'occupi democrat',\n",
       " 'scene',\n",
       " 'hous impeach',\n",
       " 'emiss',\n",
       " 'sale',\n",
       " 'struck',\n",
       " 'cool',\n",
       " 'toler',\n",
       " 'work',\n",
       " 'anchor',\n",
       " 'ugli',\n",
       " 'wrongdo',\n",
       " 'ossoff',\n",
       " 'procedur',\n",
       " 'drink',\n",
       " 'onto',\n",
       " 'shield',\n",
       " 'confeder flag',\n",
       " 'tale',\n",
       " 'reopen',\n",
       " 'white hous',\n",
       " 'new presid']"
      ]
     },
     "execution_count": 49,
     "metadata": {},
     "output_type": "execute_result"
    }
   ],
   "source": [
    "model_builder.get_most_important_words(100)"
   ]
  },
  {
   "cell_type": "code",
   "execution_count": 8,
   "metadata": {},
   "outputs": [
    {
     "data": {
      "text/plain": [
       "'True Negatives: 1075, True Positives 1090, False Negatives 50, False Positives 44.'"
      ]
     },
     "execution_count": 8,
     "metadata": {},
     "output_type": "execute_result"
    }
   ],
   "source": [
    "model_builder.get_confusion_matrix()"
   ]
  },
  {
   "cell_type": "code",
   "execution_count": 13,
   "metadata": {},
   "outputs": [
    {
     "name": "stdout",
     "output_type": "stream",
     "text": [
      "Precision: 0.9611992945326279 \n",
      "Recal: 0.956140350877193 \n",
      "Accuracy: 0.9583886675520141\n"
     ]
    },
    {
     "data": {
      "image/png": "[encoded data removed]",
      "text/plain": [
       "<Figure size 1152x576 with 2 Axes>"
      ]
     },
     "metadata": {
      "needs_background": "light"
     },
     "output_type": "display_data"
    }
   ],
   "source": [
    "model_builder.plot_confusion_matrix()\n",
    "plt.savefig(\"confusion_matrix\")"
   ]
  },
  {
   "cell_type": "code",
   "execution_count": 10,
   "metadata": {},
   "outputs": [
    {
     "name": "stdout",
     "output_type": "stream",
     "text": [
      "Topic 1:\n",
      "-------> guidelin translat polit campaign grassley lead transfer septemb 12 want make louisiana make sure\n",
      "Topic 2:\n",
      "-------> senat republican bribe briberi disastr r wi director nation sight wi vs senior advisor\n",
      "Topic 3:\n",
      "-------> vote republican marijuana blast establish vote trump voter marin act mark get\n",
      "Topic 4:\n",
      "-------> come back comedian coordin impeach wrongdo copi women right tx comey photograph bradi\n",
      "Topic 5:\n",
      "-------> plot stick noth noth democrat incap incred stir chao plu disastr\n",
      "Topic 6:\n",
      "-------> report american public slaughter bear thu thu far slave wiretap admir 1980\n",
      "Topic 7:\n",
      "-------> vision without holder fulfil intellig committe anyth 1990 hole kind heart\n",
      "Topic 8:\n",
      "-------> furthermor video vietnam garland disastr push back public servic chelsea chanc child\n",
      "Topic 9:\n",
      "-------> demand presid oklahoma yemen demand reassembl often arizona arm subsidi hawaii harsh\n",
      "Topic 10:\n",
      "-------> riot preserv subsidi hawaii chairman wing past dear analyst russian\n"
     ]
    },
    {
     "data": {
      "text/plain": [
       "['Topic 1',\n",
       " 'Topic 2',\n",
       " 'Topic 3',\n",
       " 'Topic 4',\n",
       " 'Topic 5',\n",
       " 'Topic 6',\n",
       " 'Topic 7',\n",
       " 'Topic 8',\n",
       " 'Topic 9',\n",
       " 'Topic 10']"
      ]
     },
     "execution_count": 10,
     "metadata": {},
     "output_type": "execute_result"
    }
   ],
   "source": [
    "model_builder.fit_nmf_and_return_topics('breitbart',num_topics=10)"
   ]
  },
  {
   "cell_type": "code",
   "execution_count": 11,
   "metadata": {},
   "outputs": [
    {
     "name": "stdout",
     "output_type": "stream",
     "text": [
      "Topic 1:\n",
      "-------> trump presid donald trump donald say said like go one know\n",
      "Topic 2:\n",
      "-------> russian russia putin intellig elect vladimir vladimir putin trump hack kremlin\n",
      "Topic 3:\n",
      "-------> impeach trial wit presid januari mcconnel impeach trial trump demand evid\n",
      "Topic 4:\n",
      "-------> voter poll vote elect state suppress ballot voter fraud fraud support\n",
      "Topic 5:\n",
      "-------> clinton hillari hillari clinton nomine democrat nomine nomine hillari debat email secretari campaign\n",
      "Topic 6:\n",
      "-------> nazi white white supremacist supremacist racist hate neo neo nazi anti charlottesvil\n",
      "Topic 7:\n",
      "-------> 2017 com pic com pic http http com statu april februari march\n",
      "Topic 8:\n",
      "-------> women sexual assault sexual assault woman rape men predat abort accus\n",
      "Topic 9:\n",
      "-------> comey fbi director fbi director investig jame comey jame fire director jame fire fbi\n",
      "Topic 10:\n",
      "-------> 2019 octob http decemb novemb http co co septemb com pic com\n"
     ]
    },
    {
     "data": {
      "text/plain": [
       "['Topic 1',\n",
       " 'Topic 2',\n",
       " 'Topic 3',\n",
       " 'Topic 4',\n",
       " 'Topic 5',\n",
       " 'Topic 6',\n",
       " 'Topic 7',\n",
       " 'Topic 8',\n",
       " 'Topic 9',\n",
       " 'Topic 10']"
      ]
     },
     "execution_count": 11,
     "metadata": {},
     "output_type": "execute_result"
    }
   ],
   "source": [
    "model_builder.fit_nmf_and_return_topics('occupy_democrats',num_topics=10)"
   ]
  },
  {
   "cell_type": "code",
   "execution_count": 120,
   "metadata": {},
   "outputs": [
    {
     "name": "stdout",
     "output_type": "stream",
     "text": [
      "President Donald Trump : Breitbart has this word 1627 times. Occupy Democrats has this word 358 times.\n",
      "\n",
      "trump : Breitbart has this word 2794 times. Occupy Democrats has this word 5159 times.\n",
      "\n",
      "racist : Breitbart has this word 139 times. Occupy Democrats has this word 565 times.\n",
      "\n",
      "nazi : Breitbart has this word 68 times. Occupy Democrats has this word 278 times.\n",
      "\n",
      "republican : Breitbart has this word 854 times. Occupy Democrats has this word 2571 times.\n",
      "\n",
      "democrat : Breitbart has this word 1849 times. Occupy Democrats has this word 1751 times.\n",
      "\n",
      "toxic : Breitbart has this word 33 times. Occupy Democrats has this word 123 times.\n",
      "\n",
      "rude : Breitbart has this word 89 times. Occupy Democrats has this word 145 times.\n",
      "\n",
      "rapist : Breitbart has this word 98 times. Occupy Democrats has this word 14 times.\n"
     ]
    }
   ],
   "source": [
    "print('President Donald Trump :',model_builder.find_word_freq_by_class('President Donald Trump'))\n",
    "print()\n",
    "print('trump :',model_builder.find_word_freq_by_class('trump'))\n",
    "print()\n",
    "print('racist :',model_builder.find_word_freq_by_class('racist'))\n",
    "print()\n",
    "print('nazi :',model_builder.find_word_freq_by_class('nazi'))\n",
    "print()\n",
    "print('republican :',model_builder.find_word_freq_by_class('republican'))\n",
    "print()\n",
    "print('democrat :',model_builder.find_word_freq_by_class('democrat'))\n",
    "print()\n",
    "print('toxic :',model_builder.find_word_freq_by_class('toxic'))\n",
    "print()\n",
    "print('rude :',model_builder.find_word_freq_by_class('rude'))\n",
    "print()\n",
    "print('rapist :',model_builder.find_word_freq_by_class('leftist'))"
   ]
  },
  {
   "cell_type": "code",
   "execution_count": 127,
   "metadata": {},
   "outputs": [],
   "source": [
    "breitbart = [1627, 2794, 139, 68, 854, 33, 35,98]\n",
    "occ_dem = [358, 5159, 565, 278, 2571, 123, 73,14]\n",
    "index = ['President Donald Trump', 'trump', 'racist','nazi', 'republican', 'toxic', 'rapist', 'leftist']\n",
    "df = pd.DataFrame({'Breitbart': breitbart, 'Occupy Democrats': occ_dem}, index=index)\n"
   ]
  },
  {
   "cell_type": "code",
   "execution_count": 128,
   "metadata": {},
   "outputs": [
    {
     "data": {
      "text/html": [
       "<div>\n",
       "<style scoped>\n",
       "    .dataframe tbody tr th:only-of-type {\n",
       "        vertical-align: middle;\n",
       "    }\n",
       "\n",
       "    .dataframe tbody tr th {\n",
       "        vertical-align: top;\n",
       "    }\n",
       "\n",
       "    .dataframe thead th {\n",
       "        text-align: right;\n",
       "    }\n",
       "</style>\n",
       "<table border=\"1\" class=\"dataframe\">\n",
       "  <thead>\n",
       "    <tr style=\"text-align: right;\">\n",
       "      <th></th>\n",
       "      <th>Breitbart</th>\n",
       "      <th>Occupy Democrats</th>\n",
       "    </tr>\n",
       "  </thead>\n",
       "  <tbody>\n",
       "    <tr>\n",
       "      <td>trump</td>\n",
       "      <td>2794</td>\n",
       "      <td>5159</td>\n",
       "    </tr>\n",
       "    <tr>\n",
       "      <td>republican</td>\n",
       "      <td>854</td>\n",
       "      <td>2571</td>\n",
       "    </tr>\n",
       "    <tr>\n",
       "      <td>racist</td>\n",
       "      <td>139</td>\n",
       "      <td>565</td>\n",
       "    </tr>\n",
       "    <tr>\n",
       "      <td>nazi</td>\n",
       "      <td>68</td>\n",
       "      <td>278</td>\n",
       "    </tr>\n",
       "    <tr>\n",
       "      <td>toxic</td>\n",
       "      <td>33</td>\n",
       "      <td>123</td>\n",
       "    </tr>\n",
       "    <tr>\n",
       "      <td>rapist</td>\n",
       "      <td>35</td>\n",
       "      <td>73</td>\n",
       "    </tr>\n",
       "    <tr>\n",
       "      <td>leftist</td>\n",
       "      <td>98</td>\n",
       "      <td>14</td>\n",
       "    </tr>\n",
       "    <tr>\n",
       "      <td>President Donald Trump</td>\n",
       "      <td>1627</td>\n",
       "      <td>358</td>\n",
       "    </tr>\n",
       "  </tbody>\n",
       "</table>\n",
       "</div>"
      ],
      "text/plain": [
       "                        Breitbart  Occupy Democrats\n",
       "trump                        2794              5159\n",
       "republican                    854              2571\n",
       "racist                        139               565\n",
       "nazi                           68               278\n",
       "toxic                          33               123\n",
       "rapist                         35                73\n",
       "leftist                        98                14\n",
       "President Donald Trump       1627               358"
      ]
     },
     "execution_count": 128,
     "metadata": {},
     "output_type": "execute_result"
    }
   ],
   "source": [
    "df['diff']=df['Breitbart']-df['Occupy Democrats']\n",
    "df=df.sort_values('diff')\n",
    "df=df.iloc[:,0:2]\n",
    "df"
   ]
  },
  {
   "cell_type": "code",
   "execution_count": 130,
   "metadata": {},
   "outputs": [
    {
     "data": {
      "text/html": [
       "<div>\n",
       "<style scoped>\n",
       "    .dataframe tbody tr th:only-of-type {\n",
       "        vertical-align: middle;\n",
       "    }\n",
       "\n",
       "    .dataframe tbody tr th {\n",
       "        vertical-align: top;\n",
       "    }\n",
       "\n",
       "    .dataframe thead th {\n",
       "        text-align: right;\n",
       "    }\n",
       "</style>\n",
       "<table border=\"1\" class=\"dataframe\">\n",
       "  <thead>\n",
       "    <tr style=\"text-align: right;\">\n",
       "      <th></th>\n",
       "      <th>Breitbart</th>\n",
       "      <th>Occupy Democrats</th>\n",
       "    </tr>\n",
       "  </thead>\n",
       "  <tbody>\n",
       "    <tr>\n",
       "      <td>racist</td>\n",
       "      <td>139</td>\n",
       "      <td>565</td>\n",
       "    </tr>\n",
       "    <tr>\n",
       "      <td>nazi</td>\n",
       "      <td>68</td>\n",
       "      <td>278</td>\n",
       "    </tr>\n",
       "    <tr>\n",
       "      <td>toxic</td>\n",
       "      <td>33</td>\n",
       "      <td>123</td>\n",
       "    </tr>\n",
       "    <tr>\n",
       "      <td>rapist</td>\n",
       "      <td>35</td>\n",
       "      <td>73</td>\n",
       "    </tr>\n",
       "    <tr>\n",
       "      <td>leftist</td>\n",
       "      <td>98</td>\n",
       "      <td>14</td>\n",
       "    </tr>\n",
       "  </tbody>\n",
       "</table>\n",
       "</div>"
      ],
      "text/plain": [
       "         Breitbart  Occupy Democrats\n",
       "racist         139               565\n",
       "nazi            68               278\n",
       "toxic           33               123\n",
       "rapist          35                73\n",
       "leftist         98                14"
      ]
     },
     "execution_count": 130,
     "metadata": {},
     "output_type": "execute_result"
    }
   ],
   "source": [
    "df1=df.iloc[2:-1,:]\n",
    "df1"
   ]
  },
  {
   "cell_type": "code",
   "execution_count": 133,
   "metadata": {},
   "outputs": [
    {
     "data": {
      "image/png": "[encoded data removed]",
      "text/plain": [
       "<Figure size 1152x576 with 1 Axes>"
      ]
     },
     "metadata": {
      "needs_background": "light"
     },
     "output_type": "display_data"
    }
   ],
   "source": [
    "ax = df.plot.bar(rot=0,figsize=(16,8),fontsize=12,title=\"Word Frequency by News Source\")\n",
    "plt.savefig(\"word_freq_source\")"
   ]
  },
  {
   "cell_type": "code",
   "execution_count": 134,
   "metadata": {},
   "outputs": [
    {
     "data": {
      "image/png": "[encoded data removed]",
      "text/plain": [
       "<Figure size 1152x576 with 1 Axes>"
      ]
     },
     "metadata": {
      "needs_background": "light"
     },
     "output_type": "display_data"
    }
   ],
   "source": [
    "ax = df1.plot.bar(rot=0,figsize=(16,8),fontsize=12,title=\"Word Frequency by News Source\")\n",
    "plt.savefig(\"word_freq_source_zoom\")"
   ]
  },
  {
   "cell_type": "code",
   "execution_count": null,
   "metadata": {},
   "outputs": [],
   "source": []
  }
 ],
 "metadata": {
  "kernelspec": {
   "display_name": "Python 3",
   "language": "python",
   "name": "python3"
  },
  "language_info": {
   "codemirror_mode": {
    "name": "ipython",
    "version": 3
   },
   "file_extension": ".py",
   "mimetype": "text/x-python",
   "name": "python",
   "nbconvert_exporter": "python",
   "pygments_lexer": "ipython3",
   "version": "3.7.4"
  }
 },
 "nbformat": 4,
 "nbformat_minor": 2
}
