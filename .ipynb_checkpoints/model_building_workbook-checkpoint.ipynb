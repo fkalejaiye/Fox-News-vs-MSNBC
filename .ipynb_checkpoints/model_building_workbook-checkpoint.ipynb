{
 "cells": [
  {
   "cell_type": "code",
   "execution_count": 1,
   "metadata": {},
   "outputs": [],
   "source": [
    "from data_pipline_and_eda_helper_class import *\n",
    "from model_class import *\n",
    "data_pipeline = DataPipeline()"
   ]
  },
  {
   "cell_type": "code",
   "execution_count": 2,
   "metadata": {},
   "outputs": [],
   "source": [
    "data_pipeline.combine_news_sources('occupy_democrats','breitbart')"
   ]
  },
  {
   "cell_type": "code",
   "execution_count": 3,
   "metadata": {},
   "outputs": [],
   "source": [
    "model_builder = ModelBuilder(data_pipeline.articles_info)"
   ]
  },
  {
   "cell_type": "code",
   "execution_count": 4,
   "metadata": {},
   "outputs": [],
   "source": [
    "model_builder.vectorize(500,(1,1))"
   ]
  },
  {
   "cell_type": "code",
   "execution_count": 5,
   "metadata": {},
   "outputs": [
    {
     "data": {
      "text/plain": [
       "0.8991185112634672"
      ]
     },
     "execution_count": 5,
     "metadata": {},
     "output_type": "execute_result"
    }
   ],
   "source": [
    "model_builder.fit_and_score(MultinomialNB(0.1))"
   ]
  },
  {
   "cell_type": "code",
   "execution_count": 6,
   "metadata": {},
   "outputs": [
    {
     "data": {
      "text/plain": [
       "0.9588638589618022"
      ]
     },
     "execution_count": 6,
     "metadata": {},
     "output_type": "execute_result"
    }
   ],
   "source": [
    "model_builder.fit_and_score(RandomForestClassifier(n_estimators=60))"
   ]
  },
  {
   "cell_type": "code",
   "execution_count": 7,
   "metadata": {},
   "outputs": [],
   "source": [
    "reuters = data_pipeline.pipeline('reuters')\n",
    "fox_news = data_pipeline.pipeline('fox')"
   ]
  },
  {
   "cell_type": "code",
   "execution_count": 8,
   "metadata": {},
   "outputs": [
    {
     "data": {
      "text/plain": [
       "'Predicted as Breitbart 90.32% of the time.'"
      ]
     },
     "execution_count": 8,
     "metadata": {},
     "output_type": "execute_result"
    }
   ],
   "source": [
    "model_builder.test_bias(fox_news['content'])"
   ]
  },
  {
   "cell_type": "code",
   "execution_count": 9,
   "metadata": {},
   "outputs": [
    {
     "data": {
      "text/plain": [
       "'Predicted as Breitbart 45.16% of the time.'"
      ]
     },
     "execution_count": 9,
     "metadata": {},
     "output_type": "execute_result"
    }
   ],
   "source": [
    "model_builder.test_bias(reuters['content'])"
   ]
  },
  {
   "cell_type": "code",
   "execution_count": 10,
   "metadata": {},
   "outputs": [
    {
     "data": {
      "text/plain": [
       "['criticism',\n",
       " 'try',\n",
       " 'seeking',\n",
       " '2020',\n",
       " 'act',\n",
       " '255',\n",
       " 'related',\n",
       " 'positive',\n",
       " 'action',\n",
       " 'old',\n",
       " 'two',\n",
       " 'virus',\n",
       " 'say',\n",
       " 'safe',\n",
       " 'battleground',\n",
       " 'non',\n",
       " 'wins',\n",
       " 'courts',\n",
       " 'day',\n",
       " 'weeks']"
      ]
     },
     "execution_count": 10,
     "metadata": {},
     "output_type": "execute_result"
    }
   ],
   "source": [
    "model_builder.get_most_important_words(20)"
   ]
  },
  {
   "cell_type": "code",
   "execution_count": 11,
   "metadata": {},
   "outputs": [
    {
     "data": {
      "text/plain": [
       "'True Negatives: 1084, True Positives 874, False Negatives 44, False Positives 40.'"
      ]
     },
     "execution_count": 11,
     "metadata": {},
     "output_type": "execute_result"
    }
   ],
   "source": [
    "model_builder.get_confusion_matrix()"
   ]
  },
  {
   "cell_type": "code",
   "execution_count": 12,
   "metadata": {},
   "outputs": [],
   "source": [
    "yhat = model_builder.model.predict(model_builder.X_test)"
   ]
  },
  {
   "cell_type": "code",
   "execution_count": 13,
   "metadata": {},
   "outputs": [],
   "source": [
    "indices = np.where(yhat!=model_builder.y_test.values)"
   ]
  },
  {
   "cell_type": "code",
   "execution_count": 14,
   "metadata": {},
   "outputs": [
    {
     "data": {
      "text/plain": [
       "4349     occupy_democrats\n",
       "140      occupy_democrats\n",
       "9360            breitbart\n",
       "10158           breitbart\n",
       "1566     occupy_democrats\n",
       "               ...       \n",
       "10162           breitbart\n",
       "53       occupy_democrats\n",
       "324      occupy_democrats\n",
       "9818            breitbart\n",
       "6396            breitbart\n",
       "Name: source, Length: 84, dtype: object"
      ]
     },
     "execution_count": 14,
     "metadata": {},
     "output_type": "execute_result"
    }
   ],
   "source": [
    "model_builder.y_test.iloc[indices[0]]"
   ]
  },
  {
   "cell_type": "code",
   "execution_count": 15,
   "metadata": {},
   "outputs": [
    {
     "data": {
      "text/plain": [
       "title      Coronavirus Closings Leave Many School Distric...\n",
       "author                                       Dr. Susan Berry\n",
       "date                                              9 Mar 2020\n",
       "content    School districts across the country are being ...\n",
       "source                                             breitbart\n",
       "Name: 9533, dtype: object"
      ]
     },
     "execution_count": 15,
     "metadata": {},
     "output_type": "execute_result"
    }
   ],
   "source": [
    "model_builder.articles_info.loc[9533]"
   ]
  },
  {
   "cell_type": "code",
   "execution_count": 16,
   "metadata": {},
   "outputs": [
    {
     "data": {
      "text/plain": [
       "'The uproar around the abrupt dismissal of Captain Brett Crozier of the coronavirus-ravaged aircraft carrier U.S.S Theodore Roosevelt\\xa0has reached the halls of Congress. Democratic lawmakers in both the House and the Senate are calling for an investigation into the firing of the captain, who decided that the health of his 3,000 sailors was more important than the Navy’s classified message regulations. Senators Richard Blumenthal (D-CT) and Chris Van Hollen (D-MD) have issued a letter, co-signed by 15 of their colleagues, demanding an immediate “formal investigation” into the matter by the Pentagon’s Inspector General, Gen. Glenn Fine. DOD IG must immediately investigate the COVID-19 crisis on the USS Theodore Roosevelt. Navy must provide urgent assistance to the entire crew & the island of Guam to contain the spread. — Richard Blumenthal (@SenBlumenthal) April 2, 2020  “It is essential that your office conduct a comprehensive investigation to avoid any potential conflicts of interest within the Navy chain of command, and we encourage you to evaluate all relevant matters associated with the dismissal and the outbreak on the ship,” wrote the Senators in their letter. They were joined by Reps. Ted Lieu (D-CA) and Ruben Gallego (D-AZ), both veterans, who issued their own directive to Gen. Fine over the termination of Capt. Crozier. “As veterans, we were taught that protecting the health and safety of troops was one of the highest priorities of any commander” begins the missive: Today @RubenGallego & I sent a letter to @DoD_IG requesting an investigation of @SECNAV Modly. He relieved Captain Crozier of command after Capt Crozier warned sailors would die from #coronavirus if they weren’t evacuated from the ship. Commanders should not be afraid to warn. pic.twitter.com/NmM6Ht6wHy — Ted Lieu (@tedlieu) April 3, 2020  Over the past day, Captain Brett Crozier of the U.S.S. Theodore Roosevelt has become a symbol of American resilience and determination in a time of crisis. Faced with a nightmare scenario as coronavirus stalked the 3,000 man crew of his aircraft carrier and displeased with the response he was getting from the Navy, Captain Crozier made the brave and risky decision to widely share his letter to Navy officials through non-classified channels, in which he made it clear that leaving the uninfected sailors aboard the vessel was needlessly putting them at risk. “We are not at war. Sailors do not need to die. If we do not act now, we are failing to properly take care of our most trusted asset — our Sailors,” wrote Crozier in his letter, which he CC’d to 20 or 30 people. The letter found its way to the San Francisco Chronicle\\xa0and led to his rapid dismissal by the Navy, who officially insisted it was because Crozier went outside the chain of command. If Capt. Crozier was really fired for embarassing the Trump administration and the Pentagon — as was hinted today by Acting Navy Secretary Thomas Modly when he complained the Crozier had painted the Navy in a “negative light” — then punitive action must be taken.'"
      ]
     },
     "execution_count": 16,
     "metadata": {},
     "output_type": "execute_result"
    }
   ],
   "source": [
    "model_builder.articles.loc[120]"
   ]
  },
  {
   "cell_type": "code",
   "execution_count": 24,
   "metadata": {},
   "outputs": [
    {
     "data": {
      "text/plain": [
       "0.9696376101860921"
      ]
     },
     "execution_count": 24,
     "metadata": {},
     "output_type": "execute_result"
    }
   ],
   "source": [
    "model_builder.vectorize(5000,(1,4))\n",
    "model_builder.fit_and_score(RandomForestClassifier(n_estimators=60))"
   ]
  },
  {
   "cell_type": "code",
   "execution_count": 25,
   "metadata": {},
   "outputs": [
    {
     "data": {
      "text/plain": [
       "['coronavirus',\n",
       " 'trump',\n",
       " 'said',\n",
       " '2017',\n",
       " 'pandemic',\n",
       " '2020',\n",
       " 'virus',\n",
       " 'president donald',\n",
       " 'added',\n",
       " 'name',\n",
       " 'president donald trump',\n",
       " 'tuesday',\n",
       " 'add',\n",
       " 'coronavirus pandemic',\n",
       " 'president',\n",
       " 'donald',\n",
       " 'add name',\n",
       " 'monday',\n",
       " 'covid 19',\n",
       " 'donald trump',\n",
       " 'today',\n",
       " 'chinese',\n",
       " 'biden',\n",
       " 'russian',\n",
       " 'outbreak',\n",
       " 'thursday',\n",
       " 'wednesday',\n",
       " 'republican',\n",
       " 'health',\n",
       " 'impeachment']"
      ]
     },
     "execution_count": 25,
     "metadata": {},
     "output_type": "execute_result"
    }
   ],
   "source": [
    "model_builder.get_most_important_words(30)"
   ]
  },
  {
   "cell_type": "code",
   "execution_count": 28,
   "metadata": {},
   "outputs": [
    {
     "data": {
      "text/html": [
       "<div>\n",
       "<style scoped>\n",
       "    .dataframe tbody tr th:only-of-type {\n",
       "        vertical-align: middle;\n",
       "    }\n",
       "\n",
       "    .dataframe tbody tr th {\n",
       "        vertical-align: top;\n",
       "    }\n",
       "\n",
       "    .dataframe thead th {\n",
       "        text-align: right;\n",
       "    }\n",
       "</style>\n",
       "<table border=\"1\" class=\"dataframe\">\n",
       "  <thead>\n",
       "    <tr style=\"text-align: right;\">\n",
       "      <th></th>\n",
       "      <th>title</th>\n",
       "      <th>author</th>\n",
       "      <th>date</th>\n",
       "      <th>content</th>\n",
       "      <th>source</th>\n",
       "    </tr>\n",
       "  </thead>\n",
       "  <tbody>\n",
       "    <tr>\n",
       "      <td>0</td>\n",
       "      <td>De Niro: Trump Has ‘Distain’ for His Voters Wh...</td>\n",
       "      <td>Pam Key</td>\n",
       "      <td>13 May 2020</td>\n",
       "      <td>Tuesday evening on BBC’s “Newsnight” actor Rob...</td>\n",
       "      <td>breitbart</td>\n",
       "    </tr>\n",
       "    <tr>\n",
       "      <td>1</td>\n",
       "      <td>GOP Politician and YouTube Star Joey Salads Ba...</td>\n",
       "      <td>Allum Bokhari</td>\n",
       "      <td>13 May 2020</td>\n",
       "      <td>Joe Saladino, better known by his stage name J...</td>\n",
       "      <td>breitbart</td>\n",
       "    </tr>\n",
       "    <tr>\n",
       "      <td>2</td>\n",
       "      <td>Supreme Court Considers ‘Faithless Elector’ Case</td>\n",
       "      <td>Joel B. Pollak</td>\n",
       "      <td>13 May 2020</td>\n",
       "      <td>The U.S. Supreme Court heard oral arguments We...</td>\n",
       "      <td>breitbart</td>\n",
       "    </tr>\n",
       "    <tr>\n",
       "      <td>3</td>\n",
       "      <td>Fact Check: Never Trumper Claims ‘Internet Tro...</td>\n",
       "      <td>Hannah Bleau</td>\n",
       "      <td>13 May 2020</td>\n",
       "      <td>CLAIM: Prominent Never Trumper Tim Miller, wri...</td>\n",
       "      <td>breitbart</td>\n",
       "    </tr>\n",
       "    <tr>\n",
       "      <td>4</td>\n",
       "      <td>Rosie O’Donnell Defends Backing Biden Despite ...</td>\n",
       "      <td>David Ng</td>\n",
       "      <td>13 May 2020</td>\n",
       "      <td>Actor-comedian and professional Trump nemesis ...</td>\n",
       "      <td>breitbart</td>\n",
       "    </tr>\n",
       "    <tr>\n",
       "      <td>...</td>\n",
       "      <td>...</td>\n",
       "      <td>...</td>\n",
       "      <td>...</td>\n",
       "      <td>...</td>\n",
       "      <td>...</td>\n",
       "    </tr>\n",
       "    <tr>\n",
       "      <td>5648</td>\n",
       "      <td>Coronavirus Could Tip the Scales As Poll Shows...</td>\n",
       "      <td>Deborah Danan</td>\n",
       "      <td>1 Mar 2020</td>\n",
       "      <td>TEL AVIV – Coronavirus could prove to be the w...</td>\n",
       "      <td>breitbart</td>\n",
       "    </tr>\n",
       "    <tr>\n",
       "      <td>5649</td>\n",
       "      <td>Sweden: Populists Lead in Polls, Social Democr...</td>\n",
       "      <td>Chris Tomlinson</td>\n",
       "      <td>1 Mar 2020</td>\n",
       "      <td>Sweden’s ruling Social Democrats saw their wor...</td>\n",
       "      <td>breitbart</td>\n",
       "    </tr>\n",
       "    <tr>\n",
       "      <td>5650</td>\n",
       "      <td>France Bans Mass Gatherings to Stave Off Coron...</td>\n",
       "      <td>Breitbart London</td>\n",
       "      <td>1 Mar 2020</td>\n",
       "      <td>(AFP) — France on Saturday cancelled all gathe...</td>\n",
       "      <td>breitbart</td>\n",
       "    </tr>\n",
       "    <tr>\n",
       "      <td>5651</td>\n",
       "      <td>Obama’s Body Man Reggie Love Rallies Pete Butt...</td>\n",
       "      <td>Charlie Spiering</td>\n",
       "      <td>1 Mar 2020</td>\n",
       "      <td>Former President Barack Obama’s body man Reggi...</td>\n",
       "      <td>breitbart</td>\n",
       "    </tr>\n",
       "    <tr>\n",
       "      <td>5652</td>\n",
       "      <td>CDC Disease Director: Low Number of U.S. Coron...</td>\n",
       "      <td>Dr. Susan Berry</td>\n",
       "      <td>1 Mar 2020</td>\n",
       "      <td>The still low number of cases of the novel cor...</td>\n",
       "      <td>breitbart</td>\n",
       "    </tr>\n",
       "  </tbody>\n",
       "</table>\n",
       "<p>5653 rows × 5 columns</p>\n",
       "</div>"
      ],
      "text/plain": [
       "                                                  title            author  \\\n",
       "0     De Niro: Trump Has ‘Distain’ for His Voters Wh...           Pam Key   \n",
       "1     GOP Politician and YouTube Star Joey Salads Ba...     Allum Bokhari   \n",
       "2      Supreme Court Considers ‘Faithless Elector’ Case    Joel B. Pollak   \n",
       "3     Fact Check: Never Trumper Claims ‘Internet Tro...      Hannah Bleau   \n",
       "4     Rosie O’Donnell Defends Backing Biden Despite ...          David Ng   \n",
       "...                                                 ...               ...   \n",
       "5648  Coronavirus Could Tip the Scales As Poll Shows...     Deborah Danan   \n",
       "5649  Sweden: Populists Lead in Polls, Social Democr...   Chris Tomlinson   \n",
       "5650  France Bans Mass Gatherings to Stave Off Coron...  Breitbart London   \n",
       "5651  Obama’s Body Man Reggie Love Rallies Pete Butt...  Charlie Spiering   \n",
       "5652  CDC Disease Director: Low Number of U.S. Coron...   Dr. Susan Berry   \n",
       "\n",
       "             date                                            content  \\\n",
       "0     13 May 2020  Tuesday evening on BBC’s “Newsnight” actor Rob...   \n",
       "1     13 May 2020  Joe Saladino, better known by his stage name J...   \n",
       "2     13 May 2020  The U.S. Supreme Court heard oral arguments We...   \n",
       "3     13 May 2020  CLAIM: Prominent Never Trumper Tim Miller, wri...   \n",
       "4     13 May 2020  Actor-comedian and professional Trump nemesis ...   \n",
       "...           ...                                                ...   \n",
       "5648   1 Mar 2020  TEL AVIV – Coronavirus could prove to be the w...   \n",
       "5649   1 Mar 2020  Sweden’s ruling Social Democrats saw their wor...   \n",
       "5650   1 Mar 2020  (AFP) — France on Saturday cancelled all gathe...   \n",
       "5651   1 Mar 2020  Former President Barack Obama’s body man Reggi...   \n",
       "5652   1 Mar 2020  The still low number of cases of the novel cor...   \n",
       "\n",
       "         source  \n",
       "0     breitbart  \n",
       "1     breitbart  \n",
       "2     breitbart  \n",
       "3     breitbart  \n",
       "4     breitbart  \n",
       "...         ...  \n",
       "5648  breitbart  \n",
       "5649  breitbart  \n",
       "5650  breitbart  \n",
       "5651  breitbart  \n",
       "5652  breitbart  \n",
       "\n",
       "[5653 rows x 5 columns]"
      ]
     },
     "execution_count": 28,
     "metadata": {},
     "output_type": "execute_result"
    }
   ],
   "source": [
    "data_pipeline.pipeline('breitbart')"
   ]
  },
  {
   "cell_type": "code",
   "execution_count": null,
   "metadata": {},
   "outputs": [],
   "source": []
  }
 ],
 "metadata": {
  "kernelspec": {
   "display_name": "Python 3",
   "language": "python",
   "name": "python3"
  },
  "language_info": {
   "codemirror_mode": {
    "name": "ipython",
    "version": 3
   },
   "file_extension": ".py",
   "mimetype": "text/x-python",
   "name": "python",
   "nbconvert_exporter": "python",
   "pygments_lexer": "ipython3",
   "version": "3.7.4"
  }
 },
 "nbformat": 4,
 "nbformat_minor": 2
}
