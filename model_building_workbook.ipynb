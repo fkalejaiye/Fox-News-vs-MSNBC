{
 "cells": [
  {
   "cell_type": "code",
   "execution_count": 1,
   "metadata": {},
   "outputs": [],
   "source": [
    "from data_pipline_and_eda_helper_class import *\n",
    "from model_class import *\n",
    "data_pipeline = DataPipeline()\n",
    "import seaborn as sns"
   ]
  },
  {
   "cell_type": "code",
   "execution_count": 2,
   "metadata": {},
   "outputs": [],
   "source": [
    "data_pipeline.combine_news_sources('occupy_democrats','breitbart')"
   ]
  },
  {
   "cell_type": "code",
   "execution_count": 3,
   "metadata": {},
   "outputs": [],
   "source": [
    "model_builder = ModelBuilder(data_pipeline.articles_info)"
   ]
  },
  {
   "cell_type": "code",
   "execution_count": 4,
   "metadata": {},
   "outputs": [],
   "source": [
    "model_builder.vectorize(5000,(1,4))"
   ]
  },
  {
   "cell_type": "code",
   "execution_count": 5,
   "metadata": {},
   "outputs": [
    {
     "data": {
      "text/plain": [
       "0.9309428950863213"
      ]
     },
     "execution_count": 5,
     "metadata": {},
     "output_type": "execute_result"
    }
   ],
   "source": [
    "model_builder.fit_and_score(MultinomialNB(0.1))"
   ]
  },
  {
   "cell_type": "code",
   "execution_count": 6,
   "metadata": {},
   "outputs": [
    {
     "data": {
      "text/plain": [
       "0.9588313413014609"
      ]
     },
     "execution_count": 6,
     "metadata": {},
     "output_type": "execute_result"
    }
   ],
   "source": [
    "model_builder.fit_and_score(RandomForestClassifier(n_estimators=60))"
   ]
  },
  {
   "cell_type": "code",
   "execution_count": 13,
   "metadata": {},
   "outputs": [
    {
     "data": {
      "text/plain": [
       "['trump hand',\n",
       " 'sarah',\n",
       " '2017 http',\n",
       " 'admir',\n",
       " 'princ',\n",
       " 'restaur',\n",
       " 'coast',\n",
       " 'admit coordin impeach trump',\n",
       " 'muslim',\n",
       " 'week presid',\n",
       " 'town',\n",
       " 'earlier',\n",
       " 'navi',\n",
       " 'prime minist',\n",
       " 'indic',\n",
       " 'safe',\n",
       " 'admit coordin impeach',\n",
       " 'previous',\n",
       " 'coal',\n",
       " 'march']"
      ]
     },
     "execution_count": 13,
     "metadata": {},
     "output_type": "execute_result"
    }
   ],
   "source": [
    "model_builder.get_most_important_words(20)"
   ]
  },
  {
   "cell_type": "code",
   "execution_count": 8,
   "metadata": {},
   "outputs": [
    {
     "data": {
      "text/plain": [
       "'True Negatives: 1066, True Positives 1100, False Negatives 44, False Positives 49.'"
      ]
     },
     "execution_count": 8,
     "metadata": {},
     "output_type": "execute_result"
    }
   ],
   "source": [
    "model_builder.get_confusion_matrix()"
   ]
  },
  {
   "cell_type": "code",
   "execution_count": 15,
   "metadata": {},
   "outputs": [
    {
     "name": "stdout",
     "output_type": "stream",
     "text": [
      "Precision: 0.9573542210617929 \n",
      "Recal: 0.9615384615384616 \n",
      "Accuracy: 0.9588313413014609\n"
     ]
    },
    {
     "data": {
      "image/png": "[encoded data removed]",
      "text/plain": [
       "<Figure size 1152x576 with 2 Axes>"
      ]
     },
     "metadata": {
      "needs_background": "light"
     },
     "output_type": "display_data"
    }
   ],
   "source": [
    "model_builder.plot_confusion_matrix()\n",
    "plt.savefig(\"confusionmatrix_final\")\n"
   ]
  },
  {
   "cell_type": "code",
   "execution_count": 10,
   "metadata": {},
   "outputs": [
    {
     "name": "stdout",
     "output_type": "stream",
     "text": [
      "Topic 1:\n",
      "-------> half trash popular grip leader mitch mcconnel r translat sean spicer walter septemb 11 lt\n",
      "Topic 2:\n",
      "-------> send brown brutal director jame rais choos silent silenc dinner wikileak\n",
      "Topic 3:\n",
      "-------> volum market blue especi vote volunt marri ad marriag giant\n",
      "Topic 4:\n",
      "-------> committe common sens cortez wrote could wood two day commun communist pivot\n",
      "Topic 5:\n",
      "-------> politico stop use tax dollar norm normal increas indulg make storm stori indulg make trump pay indulg make trump\n",
      "Topic 6:\n",
      "-------> republican presid american presid smoke becom presid ticket tie snap wise administr offici 2 million\n",
      "Topic 7:\n",
      "-------> visibl woman horrend full 20 horribl anyon interest revok jare kushner kim jong help trump\n",
      "Topic 8:\n",
      "-------> viciou victim pull g gender gener paint pollut director jame question trump\n",
      "Topic 9:\n",
      "-------> demand trump get fair old yemen oh demand trump son around world arpaio head he' hatr\n",
      "Topic 10:\n",
      "-------> peopl color impeach wit survivor surviv impeach wit demand susan free press disrupt suicid express\n",
      "Topic 11:\n",
      "-------> freedom fix jon paint labor move forward love border coordin impeach discuss\n",
      "Topic 12:\n",
      "-------> track thin skin cypru relat pollut obviou asset guarante leg side\n",
      "Topic 13:\n",
      "-------> action presid crime presidenti elect pile wise presidenti debat realdonaldtrump low mitch mcconnel r read transcript reader\n",
      "Topic 14:\n",
      "-------> trump russian pull editor trump tri effort qualif puppet purchas sean spicer anyon\n",
      "Topic 15:\n",
      "-------> pre privileg terror attack vote audienc precis republican nation committe primari mess georg conway\n",
      "Topic 16:\n",
      "-------> capabl multi highest level trump' trumpcar highest explain fact highest offic facil\n",
      "Topic 17:\n",
      "-------> honest former vice presid honestli honor take senat intellig blame daniel sheriff blackmail\n",
      "Topic 18:\n",
      "-------> sex deeper ten temporari labor lash hate compromis comprehens deepli\n",
      "Topic 19:\n",
      "-------> first place electron fiscal assault assassin element elev elizabeth issu statement issu\n",
      "Topic 20:\n",
      "-------> suicid florida heart focu heavi major leader superior uniform unfortun major leader mitch\n"
     ]
    },
    {
     "data": {
      "text/plain": [
       "['Topic 1',\n",
       " 'Topic 2',\n",
       " 'Topic 3',\n",
       " 'Topic 4',\n",
       " 'Topic 5',\n",
       " 'Topic 6',\n",
       " 'Topic 7',\n",
       " 'Topic 8',\n",
       " 'Topic 9',\n",
       " 'Topic 10',\n",
       " 'Topic 11',\n",
       " 'Topic 12',\n",
       " 'Topic 13',\n",
       " 'Topic 14',\n",
       " 'Topic 15',\n",
       " 'Topic 16',\n",
       " 'Topic 17',\n",
       " 'Topic 18',\n",
       " 'Topic 19',\n",
       " 'Topic 20']"
      ]
     },
     "execution_count": 10,
     "metadata": {},
     "output_type": "execute_result"
    }
   ],
   "source": [
    "model_builder.fit_nmf_and_return_topics('breitbart',num_topics=20)"
   ]
  },
  {
   "cell_type": "code",
   "execution_count": 11,
   "metadata": {},
   "outputs": [
    {
     "name": "stdout",
     "output_type": "stream",
     "text": [
      "Topic 1:\n",
      "-------> trump donald donald trump presid campaign support said mr trump lie mr\n",
      "Topic 2:\n",
      "-------> intellig inform secur agenc offici report nation leak classifi cia\n",
      "Topic 3:\n",
      "-------> ukrain 2019 impeach corrupt penc presid trump ukrain investig vp tell congress investig\n",
      "Topic 4:\n",
      "-------> bill obamacar insur care healthcar trumpcar repeal republican american ryan\n",
      "Topic 5:\n",
      "-------> clinton hillari hillari clinton nomine democrat nomine nomine hillari clinton nomine hillari democrat nomine hillari democrat nomine hillari clinton debat\n",
      "Topic 6:\n",
      "-------> comey fbi director fbi director investig jame comey jame fire director jame fbi director jame\n",
      "Topic 7:\n",
      "-------> donald j j trump donald j trump trump realdonaldtrump j trump realdonaldtrump donald j trump realdonaldtrump realdonaldtrump j trump donald\n",
      "Topic 8:\n",
      "-------> women sexual assault sexual assault woman rape men predat abort grab\n",
      "Topic 9:\n",
      "-------> court judg suprem court suprem rule ban law justic order constitut\n",
      "Topic 10:\n",
      "-------> take action presid crime demand congress take action million demand congress take million demand congress demand congress take name million demand congress congress take action presid action presid crime take action presid congress take action\n"
     ]
    },
    {
     "data": {
      "text/plain": [
       "['Topic 1',\n",
       " 'Topic 2',\n",
       " 'Topic 3',\n",
       " 'Topic 4',\n",
       " 'Topic 5',\n",
       " 'Topic 6',\n",
       " 'Topic 7',\n",
       " 'Topic 8',\n",
       " 'Topic 9',\n",
       " 'Topic 10']"
      ]
     },
     "execution_count": 11,
     "metadata": {},
     "output_type": "execute_result"
    }
   ],
   "source": [
    "model_builder.fit_nmf_and_return_topics('occupy_democrats',num_topics=10)"
   ]
  },
  {
   "cell_type": "code",
   "execution_count": 14,
   "metadata": {},
   "outputs": [
    {
     "name": "stdout",
     "output_type": "stream",
     "text": [
      "President Donald Trump : Breitbart has this word 45 times. Occupy Democrats has this word 168 times.\n"
     ]
    }
   ],
   "source": [
    "print('President Donald Trump :',model_builder.find_word_freq_by_class('indict'))"
   ]
  },
  {
   "cell_type": "code",
   "execution_count": 17,
   "metadata": {},
   "outputs": [],
   "source": [
    "breitbart = [1627, 2794, 139, 68, 854, 33, 35,98,281,982]\n",
    "occ_dem = [358, 5159, 565, 278, 2571, 123, 73,14,42,235]\n",
    "index = ['President Donald Trump', 'trump', 'racist','nazi', 'republican', 'toxic', 'rapist', 'leftist', 'communist', 'china']\n",
    "df = pd.DataFrame({'Breitbart': breitbart, 'Occupy Democrats': occ_dem}, index=index)\n"
   ]
  },
  {
   "cell_type": "code",
   "execution_count": 18,
   "metadata": {},
   "outputs": [
    {
     "data": {
      "text/html": [
       "<div>\n",
       "<style scoped>\n",
       "    .dataframe tbody tr th:only-of-type {\n",
       "        vertical-align: middle;\n",
       "    }\n",
       "\n",
       "    .dataframe tbody tr th {\n",
       "        vertical-align: top;\n",
       "    }\n",
       "\n",
       "    .dataframe thead th {\n",
       "        text-align: right;\n",
       "    }\n",
       "</style>\n",
       "<table border=\"1\" class=\"dataframe\">\n",
       "  <thead>\n",
       "    <tr style=\"text-align: right;\">\n",
       "      <th></th>\n",
       "      <th>Breitbart</th>\n",
       "      <th>Occupy Democrats</th>\n",
       "    </tr>\n",
       "  </thead>\n",
       "  <tbody>\n",
       "    <tr>\n",
       "      <td>trump</td>\n",
       "      <td>2794</td>\n",
       "      <td>5159</td>\n",
       "    </tr>\n",
       "    <tr>\n",
       "      <td>republican</td>\n",
       "      <td>854</td>\n",
       "      <td>2571</td>\n",
       "    </tr>\n",
       "    <tr>\n",
       "      <td>racist</td>\n",
       "      <td>139</td>\n",
       "      <td>565</td>\n",
       "    </tr>\n",
       "    <tr>\n",
       "      <td>nazi</td>\n",
       "      <td>68</td>\n",
       "      <td>278</td>\n",
       "    </tr>\n",
       "    <tr>\n",
       "      <td>toxic</td>\n",
       "      <td>33</td>\n",
       "      <td>123</td>\n",
       "    </tr>\n",
       "    <tr>\n",
       "      <td>rapist</td>\n",
       "      <td>35</td>\n",
       "      <td>73</td>\n",
       "    </tr>\n",
       "    <tr>\n",
       "      <td>leftist</td>\n",
       "      <td>98</td>\n",
       "      <td>14</td>\n",
       "    </tr>\n",
       "    <tr>\n",
       "      <td>communist</td>\n",
       "      <td>281</td>\n",
       "      <td>42</td>\n",
       "    </tr>\n",
       "    <tr>\n",
       "      <td>china</td>\n",
       "      <td>982</td>\n",
       "      <td>235</td>\n",
       "    </tr>\n",
       "    <tr>\n",
       "      <td>President Donald Trump</td>\n",
       "      <td>1627</td>\n",
       "      <td>358</td>\n",
       "    </tr>\n",
       "  </tbody>\n",
       "</table>\n",
       "</div>"
      ],
      "text/plain": [
       "                        Breitbart  Occupy Democrats\n",
       "trump                        2794              5159\n",
       "republican                    854              2571\n",
       "racist                        139               565\n",
       "nazi                           68               278\n",
       "toxic                          33               123\n",
       "rapist                         35                73\n",
       "leftist                        98                14\n",
       "communist                     281                42\n",
       "china                         982               235\n",
       "President Donald Trump       1627               358"
      ]
     },
     "execution_count": 18,
     "metadata": {},
     "output_type": "execute_result"
    }
   ],
   "source": [
    "df['diff']=df['Breitbart']-df['Occupy Democrats']\n",
    "df=df.sort_values('diff')\n",
    "df=df.iloc[:,0:2]\n",
    "df"
   ]
  },
  {
   "cell_type": "code",
   "execution_count": 19,
   "metadata": {},
   "outputs": [
    {
     "data": {
      "text/html": [
       "<div>\n",
       "<style scoped>\n",
       "    .dataframe tbody tr th:only-of-type {\n",
       "        vertical-align: middle;\n",
       "    }\n",
       "\n",
       "    .dataframe tbody tr th {\n",
       "        vertical-align: top;\n",
       "    }\n",
       "\n",
       "    .dataframe thead th {\n",
       "        text-align: right;\n",
       "    }\n",
       "</style>\n",
       "<table border=\"1\" class=\"dataframe\">\n",
       "  <thead>\n",
       "    <tr style=\"text-align: right;\">\n",
       "      <th></th>\n",
       "      <th>Breitbart</th>\n",
       "      <th>Occupy Democrats</th>\n",
       "    </tr>\n",
       "  </thead>\n",
       "  <tbody>\n",
       "    <tr>\n",
       "      <td>racist</td>\n",
       "      <td>139</td>\n",
       "      <td>565</td>\n",
       "    </tr>\n",
       "    <tr>\n",
       "      <td>nazi</td>\n",
       "      <td>68</td>\n",
       "      <td>278</td>\n",
       "    </tr>\n",
       "    <tr>\n",
       "      <td>toxic</td>\n",
       "      <td>33</td>\n",
       "      <td>123</td>\n",
       "    </tr>\n",
       "    <tr>\n",
       "      <td>rapist</td>\n",
       "      <td>35</td>\n",
       "      <td>73</td>\n",
       "    </tr>\n",
       "    <tr>\n",
       "      <td>leftist</td>\n",
       "      <td>98</td>\n",
       "      <td>14</td>\n",
       "    </tr>\n",
       "    <tr>\n",
       "      <td>communist</td>\n",
       "      <td>281</td>\n",
       "      <td>42</td>\n",
       "    </tr>\n",
       "  </tbody>\n",
       "</table>\n",
       "</div>"
      ],
      "text/plain": [
       "           Breitbart  Occupy Democrats\n",
       "racist           139               565\n",
       "nazi              68               278\n",
       "toxic             33               123\n",
       "rapist            35                73\n",
       "leftist           98                14\n",
       "communist        281                42"
      ]
     },
     "execution_count": 19,
     "metadata": {},
     "output_type": "execute_result"
    }
   ],
   "source": [
    "df1=df.iloc[2:-2,:]\n",
    "df1"
   ]
  },
  {
   "cell_type": "code",
   "execution_count": 22,
   "metadata": {},
   "outputs": [
    {
     "data": {
      "image/png": "[encoded data removed]",
      "text/plain": [
       "<Figure size 1152x576 with 1 Axes>"
      ]
     },
     "metadata": {
      "needs_background": "light"
     },
     "output_type": "display_data"
    }
   ],
   "source": [
    "ax = df.plot.bar(rot=5,figsize=(16,8),fontsize=12,title=\"Word Frequency by News Source\")\n",
    "plt.savefig(\"word_freq_source_final\")"
   ]
  },
  {
   "cell_type": "code",
   "execution_count": 42,
   "metadata": {},
   "outputs": [
    {
     "data": {
      "image/png": "[encoded data removed]",
      "text/plain": [
       "<Figure size 1152x576 with 1 Axes>"
      ]
     },
     "metadata": {
      "needs_background": "light"
     },
     "output_type": "display_data"
    }
   ],
   "source": [
    "ax = df1.plot.bar(rot=0,figsize=(16,8),fontsize=12,title=\"Word Frequency by News Source\")\n",
    "plt.savefig(\"wword_freq_source_zoom\")"
   ]
  },
  {
   "cell_type": "code",
   "execution_count": null,
   "metadata": {},
   "outputs": [],
   "source": []
  }
 ],
 "metadata": {
  "kernelspec": {
   "display_name": "Python 3",
   "language": "python",
   "name": "python3"
  },
  "language_info": {
   "codemirror_mode": {
    "name": "ipython",
    "version": 3
   },
   "file_extension": ".py",
   "mimetype": "text/x-python",
   "name": "python",
   "nbconvert_exporter": "python",
   "pygments_lexer": "ipython3",
   "version": "3.7.4"
  }
 },
 "nbformat": 4,
 "nbformat_minor": 2
}
