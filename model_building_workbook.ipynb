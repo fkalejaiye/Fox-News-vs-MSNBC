{
 "cells": [
  {
   "cell_type": "code",
   "execution_count": 1,
   "metadata": {},
   "outputs": [],
   "source": [
    "from data_pipline_and_eda_helper_class import *\n",
    "from model_class import *\n",
    "data_pipeline = DataPipeline()"
   ]
  },
  {
   "cell_type": "code",
   "execution_count": 2,
   "metadata": {},
   "outputs": [],
   "source": [
    "data_pipeline.combine_news_sources('occupy_democrats','breitbart')"
   ]
  },
  {
   "cell_type": "code",
   "execution_count": 3,
   "metadata": {},
   "outputs": [],
   "source": [
    "model_builder = ModelBuilder(data_pipeline.articles_info)"
   ]
  },
  {
   "cell_type": "code",
   "execution_count": 4,
   "metadata": {},
   "outputs": [],
   "source": [
    "model_builder.vectorize(500)"
   ]
  },
  {
   "cell_type": "code",
   "execution_count": 5,
   "metadata": {},
   "outputs": [
    {
     "data": {
      "text/plain": [
       "0.9142327306444136"
      ]
     },
     "execution_count": 5,
     "metadata": {},
     "output_type": "execute_result"
    }
   ],
   "source": [
    "model_builder.fit_and_score(MultinomialNB(0.1))"
   ]
  },
  {
   "cell_type": "code",
   "execution_count": 6,
   "metadata": {},
   "outputs": [
    {
     "data": {
      "text/plain": [
       "0.9601298099211868"
      ]
     },
     "execution_count": 6,
     "metadata": {},
     "output_type": "execute_result"
    }
   ],
   "source": [
    "model_builder.fit_and_score(RandomForestClassifier(n_estimators=60))"
   ]
  },
  {
   "cell_type": "code",
   "execution_count": 7,
   "metadata": {},
   "outputs": [],
   "source": [
    "reuters = data_pipeline.pipeline('reuters')\n",
    "fox_news = data_pipeline.pipeline('fox')"
   ]
  },
  {
   "cell_type": "code",
   "execution_count": 8,
   "metadata": {},
   "outputs": [
    {
     "data": {
      "text/plain": [
       "'Predicted as Breitbart 67.74% of the time.'"
      ]
     },
     "execution_count": 8,
     "metadata": {},
     "output_type": "execute_result"
    }
   ],
   "source": [
    "model_builder.test_bias(fox_news['content'])"
   ]
  },
  {
   "cell_type": "code",
   "execution_count": 9,
   "metadata": {},
   "outputs": [
    {
     "data": {
      "text/plain": [
       "'Predicted as Breitbart 48.39% of the time.'"
      ]
     },
     "execution_count": 9,
     "metadata": {},
     "output_type": "execute_result"
    }
   ],
   "source": [
    "model_builder.test_bias(reuters['content'])"
   ]
  },
  {
   "cell_type": "code",
   "execution_count": 10,
   "metadata": {},
   "outputs": [
    {
     "data": {
      "text/plain": [
       "['covering',\n",
       " 'took',\n",
       " 'risks',\n",
       " '45',\n",
       " 'panel',\n",
       " 'action',\n",
       " 'act',\n",
       " 'republicans',\n",
       " 'virus',\n",
       " 'nearly',\n",
       " 'toward',\n",
       " 'became',\n",
       " 'things',\n",
       " 'request',\n",
       " 'move',\n",
       " '2020',\n",
       " 'power',\n",
       " 'data',\n",
       " 'law',\n",
       " 'pandemic']"
      ]
     },
     "execution_count": 10,
     "metadata": {},
     "output_type": "execute_result"
    }
   ],
   "source": [
    "model_builder.get_most_important_words(20)"
   ]
  },
  {
   "cell_type": "code",
   "execution_count": 11,
   "metadata": {},
   "outputs": [],
   "source": [
    "yhat = model_builder.model.predict(model_builder.X_test)"
   ]
  },
  {
   "cell_type": "code",
   "execution_count": 52,
   "metadata": {},
   "outputs": [
    {
     "data": {
      "text/plain": [
       "'occupy_democrats'"
      ]
     },
     "execution_count": 52,
     "metadata": {},
     "output_type": "execute_result"
    }
   ],
   "source": [
    "yhat[a[0][6]]"
   ]
  },
  {
   "cell_type": "code",
   "execution_count": 53,
   "metadata": {},
   "outputs": [
    {
     "data": {
      "text/plain": [
       "'breitbart'"
      ]
     },
     "execution_count": 53,
     "metadata": {},
     "output_type": "execute_result"
    }
   ],
   "source": [
    "model_builder.y_test.iloc[a[0][6]]"
   ]
  },
  {
   "cell_type": "code",
   "execution_count": 12,
   "metadata": {},
   "outputs": [],
   "source": [
    "a = np.where(yhat!=model_builder.y_test)"
   ]
  },
  {
   "cell_type": "code",
   "execution_count": 54,
   "metadata": {},
   "outputs": [
    {
     "data": {
      "text/plain": [
       "'After a federal judge ruled in a rare Sunday decision that Ken Cuccinelli — the acting deputy secretary of the Department of Homeland Security — was illegally appointed to his position, the partisan Trump appointee has said that he will refuse to leave his post despite the court ruling. U.S. District Judge Randolph Moss issued a 55-page decision yesterday that concluded that “Cuccinelli was not lawfully appointed to serve as the acting Director of USCIS” and, even more crucially, determined that the policies that the improperly appointed acting Director mandated regarding the treatment of asylum seekers “must be set aside.” Judge Moss based his decision on the evidence that the appointment of the former Virginia Attorney General and failed candidate for governor of that state did not meet the requirements of the Federal Vacancies Reform Act of 1998. Cuccinelli told Fox and Friends today that he would simply ignore the judge’s decision while appealing the ruling. “The succession for the deputy secretary of homeland security ties back to my official position as the principal deputy at USCIS [U.S. Citizenship and Immigration Services], there’s not a problem with me at my current position,” Cuccinelli told the Fox News morning hosts today after initially chortling at the news. “The only issue in the case is related to being the acting director at USCIS. And this ruling is really something of an outlier. This is a methodology that has been used in the past. It’s been thought of as legal as — pretty broadly.” “You can expect to see those efficiently reissued … and that’s just as a precautionary measure as an appeal goes forward. It’ll be business as usual until it’s played all out,” Cuccinelli said. For Cuccinelli, “business as usual” includes continuing to amend, create, or end immigration-related policies in his acting role, despite the explicit instructions by Judge Moss that all of the policies that he’s approved while working in his current position must be rescinded. Trump fired America’s pandemic response team. Demand he reassemble it to confront the coronavirus pandemic immediately! While the same methodology may have been used in the past to appoint people to an acting position, once a judge declares it illegal, it is, in fact, illegal, and a refusal to acknowledge the jurisdiction of the court could result in contempt charges against the improperly-named acting deputy secretary and his illegally-issued anti-immigrant policy proclamations. The challenge to the legality of Cuccinelli’s appointment was spearheaded by, among others, the Democracy Forward Foundation, a Washington-based legal services organization that sued over Cuccinelli-backed policies that the group claimed made it much more difficult or even impossible for some asylum seekers to have their claims considered at southern border crossings. Cuccinelli’s bold rejection of a legally binding court decision sent shivers down the spines of those people who believe that no matter what the margin of the Democratic victory in the 2020 presidential election, Donald Trump will declare that some unspecified irregularities should invalidate the results and will consequently refuse to vacate the White House while claiming a stolen election. If public uproar over Cuccinelli’s blatant rejection of the rule of law doesn’t force him to comply with the judge’s order, then Judge Moss should follow the advice that the president always suggests when he accuses his political opponents of any type of wrongdoing even before a judge has ruled on the validity of the charges he’s leveled and lock up the illegitimate acting deputy secretary for contempt of court. Follow Vinnie Longobardo on Twitter.  Original reporting by Anna Giaritelli at The Washington Examiner'"
      ]
     },
     "execution_count": 54,
     "metadata": {},
     "output_type": "execute_result"
    }
   ],
   "source": [
    "model_builder.articles.iloc[a[0][6]]"
   ]
  },
  {
   "cell_type": "code",
   "execution_count": 55,
   "metadata": {},
   "outputs": [
    {
     "data": {
      "text/plain": [
       "title      Trump’s crony in Homeland Security refuses to ...\n",
       "author                                     Vinnie Longobardo\n",
       "date                                           March 2, 2020\n",
       "content    After a federal judge ruled in a rare Sunday d...\n",
       "source                                      occupy_democrats\n",
       "Name: 228, dtype: object"
      ]
     },
     "execution_count": 55,
     "metadata": {},
     "output_type": "execute_result"
    }
   ],
   "source": [
    "model_builder.articles_info.iloc[a[0][6]]"
   ]
  },
  {
   "cell_type": "code",
   "execution_count": 33,
   "metadata": {},
   "outputs": [
    {
     "data": {
      "text/plain": [
       "4170     occupy_democrats\n",
       "7482            breitbart\n",
       "8704            breitbart\n",
       "3852     occupy_democrats\n",
       "4400     occupy_democrats\n",
       "               ...       \n",
       "2174     occupy_democrats\n",
       "6192            breitbart\n",
       "8268            breitbart\n",
       "10520           breitbart\n",
       "489      occupy_democrats\n",
       "Name: source, Length: 2157, dtype: object"
      ]
     },
     "execution_count": 33,
     "metadata": {},
     "output_type": "execute_result"
    }
   ],
   "source": [
    "model_builder.y_test"
   ]
  },
  {
   "cell_type": "code",
   "execution_count": 34,
   "metadata": {},
   "outputs": [
    {
     "data": {
      "text/plain": [
       "<2157x500 sparse matrix of type '<class 'numpy.float64'>'\n",
       "\twith 141611 stored elements in Compressed Sparse Row format>"
      ]
     },
     "execution_count": 34,
     "metadata": {},
     "output_type": "execute_result"
    }
   ],
   "source": [
    "model_builder.X_test"
   ]
  },
  {
   "cell_type": "code",
   "execution_count": 58,
   "metadata": {},
   "outputs": [
    {
     "data": {
      "text/plain": [
       "'occupy_democrats'"
      ]
     },
     "execution_count": 58,
     "metadata": {},
     "output_type": "execute_result"
    }
   ],
   "source": [
    "model_builder.articles_info['source'].iloc[a[0][6]]"
   ]
  },
  {
   "cell_type": "code",
   "execution_count": null,
   "metadata": {},
   "outputs": [],
   "source": []
  }
 ],
 "metadata": {
  "kernelspec": {
   "display_name": "Python 3",
   "language": "python",
   "name": "python3"
  },
  "language_info": {
   "codemirror_mode": {
    "name": "ipython",
    "version": 3
   },
   "file_extension": ".py",
   "mimetype": "text/x-python",
   "name": "python",
   "nbconvert_exporter": "python",
   "pygments_lexer": "ipython3",
   "version": "3.7.4"
  }
 },
 "nbformat": 4,
 "nbformat_minor": 2
}
